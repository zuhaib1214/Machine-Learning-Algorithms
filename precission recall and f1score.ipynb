{
 "cells": [
  {
   "cell_type": "code",
   "execution_count": 1,
   "metadata": {
    "collapsed": true,
    "ExecuteTime": {
     "start_time": "2023-04-24T16:53:56.029000Z",
     "end_time": "2023-04-24T16:53:57.047569Z"
    }
   },
   "outputs": [],
   "source": [
    "import numpy as np\n",
    "import pandas as pd\n",
    "from sklearn.linear_model import LogisticRegression\n",
    "from sklearn.tree import DecisionTreeClassifier\n",
    "from sklearn.model_selection import train_test_split\n",
    "from sklearn.metrics import confusion_matrix, recall_score, precision_score, f1_score"
   ]
  },
  {
   "cell_type": "code",
   "execution_count": 2,
   "outputs": [],
   "source": [
    "df=pd.read_csv('heart.csv')"
   ],
   "metadata": {
    "collapsed": false,
    "ExecuteTime": {
     "start_time": "2023-04-24T16:54:02.398034Z",
     "end_time": "2023-04-24T16:54:02.423596Z"
    }
   }
  },
  {
   "cell_type": "code",
   "execution_count": 3,
   "outputs": [],
   "source": [
    "X_train,X_test,y_train,y_test=train_test_split(df.iloc[:,0:-1],df.iloc[:,-1],test_size=0.2,random_state=2)"
   ],
   "metadata": {
    "collapsed": false,
    "ExecuteTime": {
     "start_time": "2023-04-24T16:54:30.269979Z",
     "end_time": "2023-04-24T16:54:30.317298Z"
    }
   }
  },
  {
   "cell_type": "code",
   "execution_count": 4,
   "outputs": [
    {
     "name": "stderr",
     "output_type": "stream",
     "text": [
      "/home/zuhaib/anaconda3/lib/python3.10/site-packages/sklearn/linear_model/_logistic.py:458: ConvergenceWarning: lbfgs failed to converge (status=1):\n",
      "STOP: TOTAL NO. of ITERATIONS REACHED LIMIT.\n",
      "\n",
      "Increase the number of iterations (max_iter) or scale the data as shown in:\n",
      "    https://scikit-learn.org/stable/modules/preprocessing.html\n",
      "Please also refer to the documentation for alternative solver options:\n",
      "    https://scikit-learn.org/stable/modules/linear_model.html#logistic-regression\n",
      "  n_iter_i = _check_optimize_result(\n"
     ]
    }
   ],
   "source": [
    "log=LogisticRegression()\n",
    "clf=DecisionTreeClassifier()\n",
    "model_log=log.fit(X_train,y_train)\n",
    "model_clf=clf.fit(X_train,y_train)\n",
    "y_pred_log=model_log.predict(X_test)\n",
    "y_pred_clf=model_clf.predict(X_test)\n"
   ],
   "metadata": {
    "collapsed": false,
    "ExecuteTime": {
     "start_time": "2023-04-24T16:54:37.535591Z",
     "end_time": "2023-04-24T16:54:37.593379Z"
    }
   }
  },
  {
   "cell_type": "code",
   "execution_count": 7,
   "outputs": [
    {
     "name": "stdout",
     "output_type": "stream",
     "text": [
      "Logistic Regression confusion matrix :  [[81 24]\n",
      " [10 90]]\n",
      "Logistic Regression Precision :  0.7894736842105263\n",
      "Logistic Regression Recall :  0.9\n",
      "Logistic Regression Recall score :  0.8411214953271027\n"
     ]
    }
   ],
   "source": [
    "print(\"Logistic Regression confusion matrix : \",confusion_matrix(y_test,y_pred_log))\n",
    "print(\"Logistic Regression Precision : \",precision_score(y_test,y_pred_log))\n",
    "print(\"Logistic Regression Recall : \",recall_score(y_test,y_pred_log))\n",
    "print(\"Logistic Regression F1 score : \",f1_score(y_test,y_pred_log))\n"
   ],
   "metadata": {
    "collapsed": false,
    "ExecuteTime": {
     "start_time": "2023-04-24T16:56:37.539012Z",
     "end_time": "2023-04-24T16:56:37.599546Z"
    }
   }
  },
  {
   "cell_type": "code",
   "execution_count": 8,
   "outputs": [
    {
     "name": "stdout",
     "output_type": "stream",
     "text": [
      "Decision Tree confusion matrix is :  [[101   4]\n",
      " [  0 100]]\n",
      "Decision Tree precision is :  0.9615384615384616\n",
      "Decision Tree recall is :  1.0\n",
      "Decision Tree f1 score is :  0.9803921568627451\n"
     ]
    }
   ],
   "source": [
    "print(\"Decision Tree confusion matrix is : \",confusion_matrix(y_test,y_pred_clf))\n",
    "print(\"Decision Tree precision is : \",precision_score(y_test,y_pred_clf))\n",
    "print(\"Decision Tree recall is : \",recall_score(y_test,y_pred_clf))\n",
    "print(\"Decision Tree f1 score is : \",f1_score(y_test,y_pred_clf))"
   ],
   "metadata": {
    "collapsed": false,
    "ExecuteTime": {
     "start_time": "2023-04-24T16:57:51.347313Z",
     "end_time": "2023-04-24T16:57:51.393861Z"
    }
   }
  },
  {
   "cell_type": "code",
   "execution_count": null,
   "outputs": [],
   "source": [],
   "metadata": {
    "collapsed": false
   }
  }
 ],
 "metadata": {
  "kernelspec": {
   "display_name": "Python 3",
   "language": "python",
   "name": "python3"
  },
  "language_info": {
   "codemirror_mode": {
    "name": "ipython",
    "version": 2
   },
   "file_extension": ".py",
   "mimetype": "text/x-python",
   "name": "python",
   "nbconvert_exporter": "python",
   "pygments_lexer": "ipython2",
   "version": "2.7.6"
  }
 },
 "nbformat": 4,
 "nbformat_minor": 0
}
