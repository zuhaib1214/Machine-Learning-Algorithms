{
 "cells": [
  {
   "cell_type": "markdown",
   "source": [
    "# first we do this by simple OLS method whic is available in sckit learn"
   ],
   "metadata": {
    "collapsed": false
   }
  },
  {
   "cell_type": "code",
   "execution_count": 53,
   "metadata": {
    "collapsed": true
   },
   "outputs": [],
   "source": [
    "import numpy as np\n",
    "import pandas as pd\n",
    "from sklearn.datasets import make_regression"
   ]
  },
  {
   "cell_type": "code",
   "execution_count": 54,
   "outputs": [],
   "source": [
    "X,y = make_regression(n_samples=100, n_features=1, n_informative=1, n_targets=1,noise=20,random_state=13)"
   ],
   "metadata": {
    "collapsed": false
   }
  },
  {
   "cell_type": "code",
   "execution_count": 55,
   "outputs": [],
   "source": [
    "from sklearn.linear_model import LinearRegression\n",
    "from sklearn.model_selection import train_test_split"
   ],
   "metadata": {
    "collapsed": false
   }
  },
  {
   "cell_type": "code",
   "execution_count": 56,
   "outputs": [],
   "source": [
    "X_train,X_test,y_train,y_test = train_test_split(X,y,test_size=0.2,random_state=2)"
   ],
   "metadata": {
    "collapsed": false
   }
  },
  {
   "cell_type": "code",
   "execution_count": 57,
   "outputs": [],
   "source": [
    "reg=LinearRegression()"
   ],
   "metadata": {
    "collapsed": false
   }
  },
  {
   "cell_type": "code",
   "execution_count": 58,
   "outputs": [
    {
     "name": "stdout",
     "output_type": "stream",
     "text": [
      "[28.12597332]\n",
      "-2.271014426178382\n"
     ]
    }
   ],
   "source": [
    "reg.fit(X_train,y_train)\n",
    "print(reg.coef_)\n",
    "print(reg.intercept_)"
   ],
   "metadata": {
    "collapsed": false
   }
  },
  {
   "cell_type": "code",
   "execution_count": 59,
   "outputs": [
    {
     "data": {
      "text/plain": "0.6345158782661013"
     },
     "execution_count": 59,
     "metadata": {},
     "output_type": "execute_result"
    }
   ],
   "source": [
    "y_pred = reg.predict(X_test)\n",
    "from sklearn.metrics import r2_score\n",
    "r2_score(y_test,y_pred)"
   ],
   "metadata": {
    "collapsed": false
   }
  },
  {
   "cell_type": "markdown",
   "source": [
    "# Making our own Gradient Descent Class"
   ],
   "metadata": {
    "collapsed": false
   }
  },
  {
   "cell_type": "markdown",
   "source": [
    "## we are doing this by taking m and b both as a function of L"
   ],
   "metadata": {
    "collapsed": false
   }
  },
  {
   "cell_type": "code",
   "execution_count": 48,
   "outputs": [],
   "source": [
    "class GDRegressor:\n",
    "\n",
    "    def __init__(self,learning_rate,epochs):\n",
    "        self.m = 100\n",
    "        self.b = -120\n",
    "        self.lr = learning_rate\n",
    "        self.epochs = epochs\n",
    "\n",
    "    def fit(self,X,y):\n",
    "        # calcualte the b using GD\n",
    "        for i in range(self.epochs):\n",
    "            loss_slope_b = -2 * np.sum(y - self.m*X.ravel() - self.b)\n",
    "            loss_slope_m = -2 * np.sum((y - self.m*X.ravel() - self.b)*X.ravel())\n",
    "\n",
    "            self.b = self.b - (self.lr * loss_slope_b)\n",
    "            self.m = self.m - (self.lr * loss_slope_m)\n",
    "        print(self.m,self.b)\n",
    "\n",
    "    def predict(self,X):\n",
    "        return self.m * X + self.b\n"
   ],
   "metadata": {
    "collapsed": false
   }
  },
  {
   "cell_type": "code",
   "execution_count": 70,
   "outputs": [],
   "source": [
    "gd=GDRegressor(0.001,70)"
   ],
   "metadata": {
    "collapsed": false
   }
  },
  {
   "cell_type": "code",
   "execution_count": 71,
   "outputs": [
    {
     "name": "stdout",
     "output_type": "stream",
     "text": [
      "27.828312274005505 -2.2948401968462746\n"
     ]
    }
   ],
   "source": [
    "gd.fit(X,y)"
   ],
   "metadata": {
    "collapsed": false
   }
  },
  {
   "cell_type": "code",
   "execution_count": 51,
   "outputs": [
    {
     "data": {
      "text/plain": "array([[-22.11921769],\n       [-14.45967436],\n       [-14.92180785],\n       [ 24.22071289],\n       [  4.32438488],\n       [ 21.67112435],\n       [ -9.06605019],\n       [  2.851948  ],\n       [-22.35879005],\n       [-14.25796038],\n       [ 53.78500537],\n       [  8.75972323],\n       [  3.48793408],\n       [ -8.76271341],\n       [-23.68416824],\n       [ 10.31579463],\n       [ 15.5120051 ],\n       [  7.71035286],\n       [-47.24011768],\n       [ 46.38331635],\n       [-24.25080397],\n       [-16.54175657],\n       [-28.12854285],\n       [ 57.54630988],\n       [ -8.06489135],\n       [-47.90758693],\n       [-11.71784478],\n       [-11.25883162],\n       [-15.69039288],\n       [-16.85340673],\n       [ 17.79616505],\n       [ 19.01909815],\n       [ 10.32476716],\n       [-37.40283105],\n       [-63.15798965],\n       [-35.28268842],\n       [  3.75651986],\n       [ 34.72543668],\n       [-32.54893408],\n       [ 13.35192552],\n       [-44.39433775],\n       [ -2.36122692],\n       [-10.03469777],\n       [ 10.27833038],\n       [ 30.84031082],\n       [ 23.3723328 ],\n       [ 20.38502317],\n       [-19.5754251 ],\n       [ 23.13291539],\n       [ 29.38289173],\n       [ 38.85425766],\n       [-20.41240441],\n       [-12.75588011],\n       [-23.85205547],\n       [ 11.65094979],\n       [ 35.27840802],\n       [ 17.99653881],\n       [ -4.5669519 ],\n       [-26.06391348],\n       [ 10.66362793],\n       [ -3.53318065],\n       [ -3.89576147],\n       [ 50.37665946],\n       [-31.38559572],\n       [ 13.41850651],\n       [-55.84043082],\n       [-23.5563524 ],\n       [  1.24786248],\n       [ -3.03974883],\n       [ -6.3356992 ],\n       [ 13.36820716],\n       [  6.53652574],\n       [ 17.49032702],\n       [ 18.68113514],\n       [-12.59436912],\n       [ 35.13686903],\n       [ 12.51920277],\n       [-29.68206155],\n       [ 35.28169442],\n       [-11.94015042],\n       [ 12.01804574],\n       [  0.5234    ],\n       [-20.59219583],\n       [ 20.82777409],\n       [-11.12365148],\n       [-29.57390869],\n       [ 36.64339041],\n       [ 12.95277616],\n       [-17.05274472],\n       [ 11.36528156],\n       [  7.41031867],\n       [ 54.85561916],\n       [ 14.57711155],\n       [-12.99346867],\n       [-56.43125551],\n       [-11.05664436],\n       [ 49.17644353],\n       [-33.47631306],\n       [-11.55247693],\n       [-23.37322285]])"
     },
     "execution_count": 51,
     "metadata": {},
     "output_type": "execute_result"
    }
   ],
   "source": [
    "gd.predict(X)"
   ],
   "metadata": {
    "collapsed": false
   }
  },
  {
   "cell_type": "code",
   "execution_count": 46,
   "outputs": [],
   "source": [
    "r2_score()"
   ],
   "metadata": {
    "collapsed": false
   }
  },
  {
   "cell_type": "code",
   "execution_count": 52,
   "outputs": [
    {
     "data": {
      "text/plain": "0.6357827475296629"
     },
     "execution_count": 52,
     "metadata": {},
     "output_type": "execute_result"
    }
   ],
   "source": [
    "y_pred = gd.predict(X_test)\n",
    "r2_score(y_test,y_pred)"
   ],
   "metadata": {
    "collapsed": false
   }
  },
  {
   "cell_type": "code",
   "execution_count": null,
   "outputs": [],
   "source": [],
   "metadata": {
    "collapsed": false,
    "pycharm": {
     "is_executing": true
    }
   }
  }
 ],
 "metadata": {
  "kernelspec": {
   "display_name": "Python 3",
   "language": "python",
   "name": "python3"
  },
  "language_info": {
   "codemirror_mode": {
    "name": "ipython",
    "version": 2
   },
   "file_extension": ".py",
   "mimetype": "text/x-python",
   "name": "python",
   "nbconvert_exporter": "python",
   "pygments_lexer": "ipython2",
   "version": "2.7.6"
  }
 },
 "nbformat": 4,
 "nbformat_minor": 0
}
