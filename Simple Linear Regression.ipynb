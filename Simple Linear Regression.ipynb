{
 "cells": [
  {
   "cell_type": "code",
   "execution_count": 1,
   "metadata": {
    "collapsed": true
   },
   "outputs": [],
   "source": [
    "import numpy as np\n",
    "import pandas as pd\n",
    "import seaborn as sns\n",
    "import matplotlib.pyplot as plt\n",
    "from sklearn.model_selection import train_test_split\n",
    "from sklearn.linear_model import LinearRegression"
   ]
  },
  {
   "cell_type": "code",
   "execution_count": 2,
   "outputs": [],
   "source": [
    "df=pd.read_csv('placement.csv')"
   ],
   "metadata": {
    "collapsed": false
   }
  },
  {
   "cell_type": "code",
   "execution_count": 3,
   "outputs": [
    {
     "data": {
      "text/plain": "   cgpa  package\n0  6.89     3.26\n1  5.12     1.98\n2  7.82     3.25\n3  7.42     3.67\n4  6.94     3.57",
      "text/html": "<div>\n<style scoped>\n    .dataframe tbody tr th:only-of-type {\n        vertical-align: middle;\n    }\n\n    .dataframe tbody tr th {\n        vertical-align: top;\n    }\n\n    .dataframe thead th {\n        text-align: right;\n    }\n</style>\n<table border=\"1\" class=\"dataframe\">\n  <thead>\n    <tr style=\"text-align: right;\">\n      <th></th>\n      <th>cgpa</th>\n      <th>package</th>\n    </tr>\n  </thead>\n  <tbody>\n    <tr>\n      <th>0</th>\n      <td>6.89</td>\n      <td>3.26</td>\n    </tr>\n    <tr>\n      <th>1</th>\n      <td>5.12</td>\n      <td>1.98</td>\n    </tr>\n    <tr>\n      <th>2</th>\n      <td>7.82</td>\n      <td>3.25</td>\n    </tr>\n    <tr>\n      <th>3</th>\n      <td>7.42</td>\n      <td>3.67</td>\n    </tr>\n    <tr>\n      <th>4</th>\n      <td>6.94</td>\n      <td>3.57</td>\n    </tr>\n  </tbody>\n</table>\n</div>"
     },
     "execution_count": 3,
     "metadata": {},
     "output_type": "execute_result"
    }
   ],
   "source": [
    "df.head()"
   ],
   "metadata": {
    "collapsed": false
   }
  },
  {
   "cell_type": "code",
   "execution_count": 4,
   "outputs": [
    {
     "name": "stderr",
     "output_type": "stream",
     "text": [
      "C:\\Users\\zuhai\\anaconda3\\lib\\site-packages\\seaborn\\_decorators.py:36: FutureWarning: Pass the following variables as keyword args: x, y. From version 0.12, the only valid positional argument will be `data`, and passing other arguments without an explicit keyword will result in an error or misinterpretation.\n",
      "  warnings.warn(\n"
     ]
    },
    {
     "data": {
      "text/plain": "<AxesSubplot:xlabel='cgpa', ylabel='package'>"
     },
     "execution_count": 4,
     "metadata": {},
     "output_type": "execute_result"
    },
    {
     "data": {
      "text/plain": "<Figure size 432x288 with 1 Axes>",
      "image/png": "[encoded data removed]"
     },
     "metadata": {},
     "output_type": "display_data"
    }
   ],
   "source": [
    "x=df['cgpa']\n",
    "y=df['package']\n",
    "sns.scatterplot(x,y)"
   ],
   "metadata": {
    "collapsed": false
   }
  },
  {
   "cell_type": "code",
   "execution_count": 5,
   "outputs": [
    {
     "data": {
      "text/plain": "0      6.89\n1      5.12\n2      7.82\n3      7.42\n4      6.94\n       ... \n195    6.93\n196    5.89\n197    7.21\n198    7.63\n199    6.22\nName: cgpa, Length: 200, dtype: float64"
     },
     "execution_count": 5,
     "metadata": {},
     "output_type": "execute_result"
    }
   ],
   "source": [
    "x"
   ],
   "metadata": {
    "collapsed": false
   }
  },
  {
   "cell_type": "code",
   "execution_count": 6,
   "outputs": [],
   "source": [
    "X_train,X_test,y_train,y_test=train_test_split(df.drop(columns=['package']),df['package'],test_size=0.2,random_state=2)"
   ],
   "metadata": {
    "collapsed": false
   }
  },
  {
   "cell_type": "code",
   "execution_count": 7,
   "outputs": [],
   "source": [
    "lr=LinearRegression()\n",
    "model=lr.fit(X_train,y_train)"
   ],
   "metadata": {
    "collapsed": false
   }
  },
  {
   "cell_type": "code",
   "execution_count": 8,
   "outputs": [
    {
     "data": {
      "text/plain": "     cgpa\n112  8.58\n29   7.15\n182  5.88\n199  6.22\n193  4.57\n85   4.79\n10   5.32\n54   6.86\n115  8.35\n35   6.87\n12   8.94\n92   7.90\n13   6.93\n126  5.91\n174  7.32\n2    7.82\n44   5.09\n3    7.42\n113  6.94\n14   7.73\n23   6.19\n25   7.28\n6    6.73\n134  7.20\n165  8.21\n173  6.75\n45   7.87\n65   7.60\n48   8.63\n122  5.12\n178  8.15\n64   7.36\n9    8.31\n57   6.60\n78   6.59\n71   7.47\n128  7.93\n176  6.29\n131  6.37\n53   6.47",
      "text/html": "<div>\n<style scoped>\n    .dataframe tbody tr th:only-of-type {\n        vertical-align: middle;\n    }\n\n    .dataframe tbody tr th {\n        vertical-align: top;\n    }\n\n    .dataframe thead th {\n        text-align: right;\n    }\n</style>\n<table border=\"1\" class=\"dataframe\">\n  <thead>\n    <tr style=\"text-align: right;\">\n      <th></th>\n      <th>cgpa</th>\n    </tr>\n  </thead>\n  <tbody>\n    <tr>\n      <th>112</th>\n      <td>8.58</td>\n    </tr>\n    <tr>\n      <th>29</th>\n      <td>7.15</td>\n    </tr>\n    <tr>\n      <th>182</th>\n      <td>5.88</td>\n    </tr>\n    <tr>\n      <th>199</th>\n      <td>6.22</td>\n    </tr>\n    <tr>\n      <th>193</th>\n      <td>4.57</td>\n    </tr>\n    <tr>\n      <th>85</th>\n      <td>4.79</td>\n    </tr>\n    <tr>\n      <th>10</th>\n      <td>5.32</td>\n    </tr>\n    <tr>\n      <th>54</th>\n      <td>6.86</td>\n    </tr>\n    <tr>\n      <th>115</th>\n      <td>8.35</td>\n    </tr>\n    <tr>\n      <th>35</th>\n      <td>6.87</td>\n    </tr>\n    <tr>\n      <th>12</th>\n      <td>8.94</td>\n    </tr>\n    <tr>\n      <th>92</th>\n      <td>7.90</td>\n    </tr>\n    <tr>\n      <th>13</th>\n      <td>6.93</td>\n    </tr>\n    <tr>\n      <th>126</th>\n      <td>5.91</td>\n    </tr>\n    <tr>\n      <th>174</th>\n      <td>7.32</td>\n    </tr>\n    <tr>\n      <th>2</th>\n      <td>7.82</td>\n    </tr>\n    <tr>\n      <th>44</th>\n      <td>5.09</td>\n    </tr>\n    <tr>\n      <th>3</th>\n      <td>7.42</td>\n    </tr>\n    <tr>\n      <th>113</th>\n      <td>6.94</td>\n    </tr>\n    <tr>\n      <th>14</th>\n      <td>7.73</td>\n    </tr>\n    <tr>\n      <th>23</th>\n      <td>6.19</td>\n    </tr>\n    <tr>\n      <th>25</th>\n      <td>7.28</td>\n    </tr>\n    <tr>\n      <th>6</th>\n      <td>6.73</td>\n    </tr>\n    <tr>\n      <th>134</th>\n      <td>7.20</td>\n    </tr>\n    <tr>\n      <th>165</th>\n      <td>8.21</td>\n    </tr>\n    <tr>\n      <th>173</th>\n      <td>6.75</td>\n    </tr>\n    <tr>\n      <th>45</th>\n      <td>7.87</td>\n    </tr>\n    <tr>\n      <th>65</th>\n      <td>7.60</td>\n    </tr>\n    <tr>\n      <th>48</th>\n      <td>8.63</td>\n    </tr>\n    <tr>\n      <th>122</th>\n      <td>5.12</td>\n    </tr>\n    <tr>\n      <th>178</th>\n      <td>8.15</td>\n    </tr>\n    <tr>\n      <th>64</th>\n      <td>7.36</td>\n    </tr>\n    <tr>\n      <th>9</th>\n      <td>8.31</td>\n    </tr>\n    <tr>\n      <th>57</th>\n      <td>6.60</td>\n    </tr>\n    <tr>\n      <th>78</th>\n      <td>6.59</td>\n    </tr>\n    <tr>\n      <th>71</th>\n      <td>7.47</td>\n    </tr>\n    <tr>\n      <th>128</th>\n      <td>7.93</td>\n    </tr>\n    <tr>\n      <th>176</th>\n      <td>6.29</td>\n    </tr>\n    <tr>\n      <th>131</th>\n      <td>6.37</td>\n    </tr>\n    <tr>\n      <th>53</th>\n      <td>6.47</td>\n    </tr>\n  </tbody>\n</table>\n</div>"
     },
     "execution_count": 8,
     "metadata": {},
     "output_type": "execute_result"
    }
   ],
   "source": [
    "X_test"
   ],
   "metadata": {
    "collapsed": false
   }
  },
  {
   "cell_type": "code",
   "execution_count": 9,
   "outputs": [
    {
     "data": {
      "text/plain": "112    4.10\n29     3.49\n182    2.08\n199    2.33\n193    1.94\n85     1.48\n10     1.86\n54     3.09\n115    4.21\n35     2.87\n12     3.65\n92     4.00\n13     2.89\n126    2.60\n174    2.99\n2      3.25\n44     1.86\n3      3.67\n113    2.37\n14     3.42\n23     2.48\n25     3.65\n6      2.60\n134    2.83\n165    4.08\n173    2.56\n45     3.58\n65     3.81\n48     4.09\n122    2.01\n178    3.63\n64     2.92\n9      3.51\n57     1.94\n78     2.21\n71     3.34\n128    3.34\n176    3.23\n131    2.01\n53     2.61\nName: package, dtype: float64"
     },
     "execution_count": 9,
     "metadata": {},
     "output_type": "execute_result"
    }
   ],
   "source": [
    "y_test"
   ],
   "metadata": {
    "collapsed": false
   }
  },
  {
   "cell_type": "code",
   "execution_count": 10,
   "outputs": [],
   "source": [
    "y_pred=model.predict(X_test)"
   ],
   "metadata": {
    "collapsed": false
   }
  },
  {
   "cell_type": "code",
   "execution_count": 34,
   "outputs": [
    {
     "name": "stderr",
     "output_type": "stream",
     "text": [
      "C:\\Users\\zuhai\\anaconda3\\lib\\site-packages\\sklearn\\base.py:450: UserWarning: X does not have valid feature names, but LinearRegression was fitted with feature names\n",
      "  warnings.warn(\n"
     ]
    },
    {
     "data": {
      "text/plain": "array([3.89111601])"
     },
     "execution_count": 34,
     "metadata": {},
     "output_type": "execute_result"
    }
   ],
   "source": [],
   "metadata": {
    "collapsed": false
   }
  },
  {
   "cell_type": "code",
   "execution_count": 20,
   "outputs": [],
   "source": [],
   "metadata": {
    "collapsed": false
   }
  },
  {
   "cell_type": "markdown",
   "source": [
    "# checking value for slope m"
   ],
   "metadata": {
    "collapsed": false
   }
  },
  {
   "cell_type": "code",
   "execution_count": 28,
   "outputs": [],
   "source": [
    "m = model.coef_"
   ],
   "metadata": {
    "collapsed": false
   }
  },
  {
   "cell_type": "code",
   "execution_count": 29,
   "outputs": [
    {
     "data": {
      "text/plain": "array([0.55795197])"
     },
     "execution_count": 29,
     "metadata": {},
     "output_type": "execute_result"
    }
   ],
   "source": [
    "m"
   ],
   "metadata": {
    "collapsed": false
   }
  },
  {
   "cell_type": "code",
   "execution_count": 30,
   "outputs": [],
   "source": [
    "b = model.intercept_"
   ],
   "metadata": {
    "collapsed": false
   }
  },
  {
   "cell_type": "code",
   "execution_count": 31,
   "outputs": [
    {
     "data": {
      "text/plain": "-0.8961119222429144"
     },
     "execution_count": 31,
     "metadata": {},
     "output_type": "execute_result"
    }
   ],
   "source": [
    "b"
   ],
   "metadata": {
    "collapsed": false
   }
  },
  {
   "cell_type": "markdown",
   "source": [
    "# applying y=mx+b formula"
   ],
   "metadata": {
    "collapsed": false
   }
  },
  {
   "cell_type": "code",
   "execution_count": 32,
   "outputs": [],
   "source": [
    "y = m*8.58+b"
   ],
   "metadata": {
    "collapsed": false
   }
  },
  {
   "cell_type": "code",
   "execution_count": 33,
   "outputs": [
    {
     "data": {
      "text/plain": "array([3.89111601])"
     },
     "execution_count": 33,
     "metadata": {},
     "output_type": "execute_result"
    }
   ],
   "source": [
    "y"
   ],
   "metadata": {
    "collapsed": false
   }
  },
  {
   "cell_type": "markdown",
   "source": [
    "# Loss function and Accuracy function MAE, MSE, RMSE, R2, R2 adjusted"
   ],
   "metadata": {
    "collapsed": false
   }
  },
  {
   "cell_type": "code",
   "execution_count": 11,
   "outputs": [],
   "source": [
    "from sklearn.metrics import mean_absolute_error, mean_squared_error , r2_score"
   ],
   "metadata": {
    "collapsed": false
   }
  },
  {
   "cell_type": "code",
   "execution_count": 12,
   "outputs": [],
   "source": [
    "y_pred=model.predict(X_test)"
   ],
   "metadata": {
    "collapsed": false
   }
  },
  {
   "cell_type": "code",
   "execution_count": 13,
   "outputs": [
    {
     "data": {
      "text/plain": "0.2884710931878175"
     },
     "execution_count": 13,
     "metadata": {},
     "output_type": "execute_result"
    }
   ],
   "source": [
    "# Mean absolute error\n",
    "mean_absolute_error(y_test,y_pred)"
   ],
   "metadata": {
    "collapsed": false
   }
  },
  {
   "cell_type": "code",
   "execution_count": 14,
   "outputs": [
    {
     "data": {
      "text/plain": "0.12129235313495527"
     },
     "execution_count": 14,
     "metadata": {},
     "output_type": "execute_result"
    }
   ],
   "source": [
    "# Mean squared error\n",
    "mean_squared_error(y_test,y_pred)"
   ],
   "metadata": {
    "collapsed": false
   }
  },
  {
   "cell_type": "code",
   "execution_count": 15,
   "outputs": [
    {
     "data": {
      "text/plain": "0.34827051717731616"
     },
     "execution_count": 15,
     "metadata": {},
     "output_type": "execute_result"
    }
   ],
   "source": [
    "# Root mean squared error\n",
    "np.sqrt(mean_squared_error(y_test,y_pred))"
   ],
   "metadata": {
    "collapsed": false
   }
  },
  {
   "cell_type": "code",
   "execution_count": 16,
   "outputs": [
    {
     "data": {
      "text/plain": "0.780730147510384"
     },
     "execution_count": 16,
     "metadata": {},
     "output_type": "execute_result"
    }
   ],
   "source": [
    "# r2 score\n",
    "r2_score(y_test,y_pred)"
   ],
   "metadata": {
    "collapsed": false
   }
  },
  {
   "cell_type": "code",
   "execution_count": 17,
   "outputs": [
    {
     "data": {
      "text/plain": "(40, 1)"
     },
     "execution_count": 17,
     "metadata": {},
     "output_type": "execute_result"
    }
   ],
   "source": [
    "#adjusted r2 score\n",
    "X_test.shape"
   ],
   "metadata": {
    "collapsed": false
   }
  },
  {
   "cell_type": "code",
   "execution_count": 18,
   "outputs": [],
   "source": [
    "r2=r2_score(y_test,y_pred)\n",
    "adj_r2=1-((1-r2)*(40-1)/(40-1-1))"
   ],
   "metadata": {
    "collapsed": false
   }
  },
  {
   "cell_type": "code",
   "execution_count": 19,
   "outputs": [
    {
     "data": {
      "text/plain": "0.7749598882343415"
     },
     "execution_count": 19,
     "metadata": {},
     "output_type": "execute_result"
    }
   ],
   "source": [
    "adj_r2"
   ],
   "metadata": {
    "collapsed": false
   }
  },
  {
   "cell_type": "code",
   "execution_count": null,
   "outputs": [],
   "source": [],
   "metadata": {
    "collapsed": false
   }
  }
 ],
 "metadata": {
  "kernelspec": {
   "display_name": "Python 3",
   "language": "python",
   "name": "python3"
  },
  "language_info": {
   "codemirror_mode": {
    "name": "ipython",
    "version": 2
   },
   "file_extension": ".py",
   "mimetype": "text/x-python",
   "name": "python",
   "nbconvert_exporter": "python",
   "pygments_lexer": "ipython2",
   "version": "2.7.6"
  }
 },
 "nbformat": 4,
 "nbformat_minor": 0
}
