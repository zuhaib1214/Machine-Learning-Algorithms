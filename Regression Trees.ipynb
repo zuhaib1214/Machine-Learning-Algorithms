{
 "cells": [
  {
   "cell_type": "code",
   "execution_count": 19,
   "metadata": {
    "collapsed": true,
    "ExecuteTime": {
     "start_time": "2023-04-26T00:20:13.016512Z",
     "end_time": "2023-04-26T00:20:13.062860Z"
    }
   },
   "outputs": [],
   "source": [
    "import numpy as np\n",
    "import pandas as pd\n",
    "from pandas_datareader import data\n",
    "from sklearn.tree import DecisionTreeRegressor\n",
    "from sklearn.model_selection import train_test_split\n",
    "from sklearn import metrics\n",
    "from sklearn.metrics import r2_score\n",
    "from sklearn.datasets import load_diabetes\n",
    "from sklearn.model_selection import GridSearchCV"
   ]
  },
  {
   "cell_type": "code",
   "execution_count": 20,
   "outputs": [],
   "source": [
    "diabetes=load_diabetes()\n",
    "df=pd.DataFrame(diabetes.data)"
   ],
   "metadata": {
    "collapsed": false,
    "ExecuteTime": {
     "start_time": "2023-04-26T00:20:13.436959Z",
     "end_time": "2023-04-26T00:20:13.453077Z"
    }
   }
  },
  {
   "cell_type": "code",
   "execution_count": 21,
   "outputs": [
    {
     "data": {
      "text/plain": "          0         1         2         3         4         5         6  \\\n0  0.038076  0.050680  0.061696  0.021872 -0.044223 -0.034821 -0.043401   \n1 -0.001882 -0.044642 -0.051474 -0.026328 -0.008449 -0.019163  0.074412   \n2  0.085299  0.050680  0.044451 -0.005670 -0.045599 -0.034194 -0.032356   \n3 -0.089063 -0.044642 -0.011595 -0.036656  0.012191  0.024991 -0.036038   \n4  0.005383 -0.044642 -0.036385  0.021872  0.003935  0.015596  0.008142   \n\n          7         8         9  \n0 -0.002592  0.019907 -0.017646  \n1 -0.039493 -0.068332 -0.092204  \n2 -0.002592  0.002861 -0.025930  \n3  0.034309  0.022688 -0.009362  \n4 -0.002592 -0.031988 -0.046641  ",
      "text/html": "<div>\n<style scoped>\n    .dataframe tbody tr th:only-of-type {\n        vertical-align: middle;\n    }\n\n    .dataframe tbody tr th {\n        vertical-align: top;\n    }\n\n    .dataframe thead th {\n        text-align: right;\n    }\n</style>\n<table border=\"1\" class=\"dataframe\">\n  <thead>\n    <tr style=\"text-align: right;\">\n      <th></th>\n      <th>0</th>\n      <th>1</th>\n      <th>2</th>\n      <th>3</th>\n      <th>4</th>\n      <th>5</th>\n      <th>6</th>\n      <th>7</th>\n      <th>8</th>\n      <th>9</th>\n    </tr>\n  </thead>\n  <tbody>\n    <tr>\n      <th>0</th>\n      <td>0.038076</td>\n      <td>0.050680</td>\n      <td>0.061696</td>\n      <td>0.021872</td>\n      <td>-0.044223</td>\n      <td>-0.034821</td>\n      <td>-0.043401</td>\n      <td>-0.002592</td>\n      <td>0.019907</td>\n      <td>-0.017646</td>\n    </tr>\n    <tr>\n      <th>1</th>\n      <td>-0.001882</td>\n      <td>-0.044642</td>\n      <td>-0.051474</td>\n      <td>-0.026328</td>\n      <td>-0.008449</td>\n      <td>-0.019163</td>\n      <td>0.074412</td>\n      <td>-0.039493</td>\n      <td>-0.068332</td>\n      <td>-0.092204</td>\n    </tr>\n    <tr>\n      <th>2</th>\n      <td>0.085299</td>\n      <td>0.050680</td>\n      <td>0.044451</td>\n      <td>-0.005670</td>\n      <td>-0.045599</td>\n      <td>-0.034194</td>\n      <td>-0.032356</td>\n      <td>-0.002592</td>\n      <td>0.002861</td>\n      <td>-0.025930</td>\n    </tr>\n    <tr>\n      <th>3</th>\n      <td>-0.089063</td>\n      <td>-0.044642</td>\n      <td>-0.011595</td>\n      <td>-0.036656</td>\n      <td>0.012191</td>\n      <td>0.024991</td>\n      <td>-0.036038</td>\n      <td>0.034309</td>\n      <td>0.022688</td>\n      <td>-0.009362</td>\n    </tr>\n    <tr>\n      <th>4</th>\n      <td>0.005383</td>\n      <td>-0.044642</td>\n      <td>-0.036385</td>\n      <td>0.021872</td>\n      <td>0.003935</td>\n      <td>0.015596</td>\n      <td>0.008142</td>\n      <td>-0.002592</td>\n      <td>-0.031988</td>\n      <td>-0.046641</td>\n    </tr>\n  </tbody>\n</table>\n</div>"
     },
     "execution_count": 21,
     "metadata": {},
     "output_type": "execute_result"
    }
   ],
   "source": [
    "df.head()"
   ],
   "metadata": {
    "collapsed": false,
    "ExecuteTime": {
     "start_time": "2023-04-26T00:20:14.120664Z",
     "end_time": "2023-04-26T00:20:14.171278Z"
    }
   }
  },
  {
   "cell_type": "code",
   "execution_count": 22,
   "outputs": [],
   "source": [
    "df.columns=diabetes.feature_names\n",
    "df['target']=diabetes.target"
   ],
   "metadata": {
    "collapsed": false,
    "ExecuteTime": {
     "start_time": "2023-04-26T00:20:14.879809Z",
     "end_time": "2023-04-26T00:20:14.924294Z"
    }
   }
  },
  {
   "cell_type": "code",
   "execution_count": 23,
   "outputs": [
    {
     "data": {
      "text/plain": "        age       sex       bmi        bp        s1        s2        s3  \\\n0  0.038076  0.050680  0.061696  0.021872 -0.044223 -0.034821 -0.043401   \n1 -0.001882 -0.044642 -0.051474 -0.026328 -0.008449 -0.019163  0.074412   \n2  0.085299  0.050680  0.044451 -0.005670 -0.045599 -0.034194 -0.032356   \n3 -0.089063 -0.044642 -0.011595 -0.036656  0.012191  0.024991 -0.036038   \n4  0.005383 -0.044642 -0.036385  0.021872  0.003935  0.015596  0.008142   \n\n         s4        s5        s6  target  \n0 -0.002592  0.019907 -0.017646   151.0  \n1 -0.039493 -0.068332 -0.092204    75.0  \n2 -0.002592  0.002861 -0.025930   141.0  \n3  0.034309  0.022688 -0.009362   206.0  \n4 -0.002592 -0.031988 -0.046641   135.0  ",
      "text/html": "<div>\n<style scoped>\n    .dataframe tbody tr th:only-of-type {\n        vertical-align: middle;\n    }\n\n    .dataframe tbody tr th {\n        vertical-align: top;\n    }\n\n    .dataframe thead th {\n        text-align: right;\n    }\n</style>\n<table border=\"1\" class=\"dataframe\">\n  <thead>\n    <tr style=\"text-align: right;\">\n      <th></th>\n      <th>age</th>\n      <th>sex</th>\n      <th>bmi</th>\n      <th>bp</th>\n      <th>s1</th>\n      <th>s2</th>\n      <th>s3</th>\n      <th>s4</th>\n      <th>s5</th>\n      <th>s6</th>\n      <th>target</th>\n    </tr>\n  </thead>\n  <tbody>\n    <tr>\n      <th>0</th>\n      <td>0.038076</td>\n      <td>0.050680</td>\n      <td>0.061696</td>\n      <td>0.021872</td>\n      <td>-0.044223</td>\n      <td>-0.034821</td>\n      <td>-0.043401</td>\n      <td>-0.002592</td>\n      <td>0.019907</td>\n      <td>-0.017646</td>\n      <td>151.0</td>\n    </tr>\n    <tr>\n      <th>1</th>\n      <td>-0.001882</td>\n      <td>-0.044642</td>\n      <td>-0.051474</td>\n      <td>-0.026328</td>\n      <td>-0.008449</td>\n      <td>-0.019163</td>\n      <td>0.074412</td>\n      <td>-0.039493</td>\n      <td>-0.068332</td>\n      <td>-0.092204</td>\n      <td>75.0</td>\n    </tr>\n    <tr>\n      <th>2</th>\n      <td>0.085299</td>\n      <td>0.050680</td>\n      <td>0.044451</td>\n      <td>-0.005670</td>\n      <td>-0.045599</td>\n      <td>-0.034194</td>\n      <td>-0.032356</td>\n      <td>-0.002592</td>\n      <td>0.002861</td>\n      <td>-0.025930</td>\n      <td>141.0</td>\n    </tr>\n    <tr>\n      <th>3</th>\n      <td>-0.089063</td>\n      <td>-0.044642</td>\n      <td>-0.011595</td>\n      <td>-0.036656</td>\n      <td>0.012191</td>\n      <td>0.024991</td>\n      <td>-0.036038</td>\n      <td>0.034309</td>\n      <td>0.022688</td>\n      <td>-0.009362</td>\n      <td>206.0</td>\n    </tr>\n    <tr>\n      <th>4</th>\n      <td>0.005383</td>\n      <td>-0.044642</td>\n      <td>-0.036385</td>\n      <td>0.021872</td>\n      <td>0.003935</td>\n      <td>0.015596</td>\n      <td>0.008142</td>\n      <td>-0.002592</td>\n      <td>-0.031988</td>\n      <td>-0.046641</td>\n      <td>135.0</td>\n    </tr>\n  </tbody>\n</table>\n</div>"
     },
     "execution_count": 23,
     "metadata": {},
     "output_type": "execute_result"
    }
   ],
   "source": [
    "df.head()"
   ],
   "metadata": {
    "collapsed": false,
    "ExecuteTime": {
     "start_time": "2023-04-26T00:20:15.691426Z",
     "end_time": "2023-04-26T00:20:15.732818Z"
    }
   }
  },
  {
   "cell_type": "code",
   "execution_count": 51,
   "outputs": [],
   "source": [
    "X=df.iloc[:,0:10]\n",
    "y=df['target']"
   ],
   "metadata": {
    "collapsed": false,
    "ExecuteTime": {
     "start_time": "2023-04-26T00:32:11.520547Z",
     "end_time": "2023-04-26T00:32:11.571198Z"
    }
   }
  },
  {
   "cell_type": "code",
   "execution_count": 52,
   "outputs": [
    {
     "data": {
      "text/plain": "          age       sex       bmi        bp        s1        s2        s3  \\\n0    0.038076  0.050680  0.061696  0.021872 -0.044223 -0.034821 -0.043401   \n1   -0.001882 -0.044642 -0.051474 -0.026328 -0.008449 -0.019163  0.074412   \n2    0.085299  0.050680  0.044451 -0.005670 -0.045599 -0.034194 -0.032356   \n3   -0.089063 -0.044642 -0.011595 -0.036656  0.012191  0.024991 -0.036038   \n4    0.005383 -0.044642 -0.036385  0.021872  0.003935  0.015596  0.008142   \n..        ...       ...       ...       ...       ...       ...       ...   \n437  0.041708  0.050680  0.019662  0.059744 -0.005697 -0.002566 -0.028674   \n438 -0.005515  0.050680 -0.015906 -0.067642  0.049341  0.079165 -0.028674   \n439  0.041708  0.050680 -0.015906  0.017293 -0.037344 -0.013840 -0.024993   \n440 -0.045472 -0.044642  0.039062  0.001215  0.016318  0.015283 -0.028674   \n441 -0.045472 -0.044642 -0.073030 -0.081413  0.083740  0.027809  0.173816   \n\n           s4        s5        s6  \n0   -0.002592  0.019907 -0.017646  \n1   -0.039493 -0.068332 -0.092204  \n2   -0.002592  0.002861 -0.025930  \n3    0.034309  0.022688 -0.009362  \n4   -0.002592 -0.031988 -0.046641  \n..        ...       ...       ...  \n437 -0.002592  0.031193  0.007207  \n438  0.034309 -0.018114  0.044485  \n439 -0.011080 -0.046883  0.015491  \n440  0.026560  0.044529 -0.025930  \n441 -0.039493 -0.004222  0.003064  \n\n[442 rows x 10 columns]",
      "text/html": "<div>\n<style scoped>\n    .dataframe tbody tr th:only-of-type {\n        vertical-align: middle;\n    }\n\n    .dataframe tbody tr th {\n        vertical-align: top;\n    }\n\n    .dataframe thead th {\n        text-align: right;\n    }\n</style>\n<table border=\"1\" class=\"dataframe\">\n  <thead>\n    <tr style=\"text-align: right;\">\n      <th></th>\n      <th>age</th>\n      <th>sex</th>\n      <th>bmi</th>\n      <th>bp</th>\n      <th>s1</th>\n      <th>s2</th>\n      <th>s3</th>\n      <th>s4</th>\n      <th>s5</th>\n      <th>s6</th>\n    </tr>\n  </thead>\n  <tbody>\n    <tr>\n      <th>0</th>\n      <td>0.038076</td>\n      <td>0.050680</td>\n      <td>0.061696</td>\n      <td>0.021872</td>\n      <td>-0.044223</td>\n      <td>-0.034821</td>\n      <td>-0.043401</td>\n      <td>-0.002592</td>\n      <td>0.019907</td>\n      <td>-0.017646</td>\n    </tr>\n    <tr>\n      <th>1</th>\n      <td>-0.001882</td>\n      <td>-0.044642</td>\n      <td>-0.051474</td>\n      <td>-0.026328</td>\n      <td>-0.008449</td>\n      <td>-0.019163</td>\n      <td>0.074412</td>\n      <td>-0.039493</td>\n      <td>-0.068332</td>\n      <td>-0.092204</td>\n    </tr>\n    <tr>\n      <th>2</th>\n      <td>0.085299</td>\n      <td>0.050680</td>\n      <td>0.044451</td>\n      <td>-0.005670</td>\n      <td>-0.045599</td>\n      <td>-0.034194</td>\n      <td>-0.032356</td>\n      <td>-0.002592</td>\n      <td>0.002861</td>\n      <td>-0.025930</td>\n    </tr>\n    <tr>\n      <th>3</th>\n      <td>-0.089063</td>\n      <td>-0.044642</td>\n      <td>-0.011595</td>\n      <td>-0.036656</td>\n      <td>0.012191</td>\n      <td>0.024991</td>\n      <td>-0.036038</td>\n      <td>0.034309</td>\n      <td>0.022688</td>\n      <td>-0.009362</td>\n    </tr>\n    <tr>\n      <th>4</th>\n      <td>0.005383</td>\n      <td>-0.044642</td>\n      <td>-0.036385</td>\n      <td>0.021872</td>\n      <td>0.003935</td>\n      <td>0.015596</td>\n      <td>0.008142</td>\n      <td>-0.002592</td>\n      <td>-0.031988</td>\n      <td>-0.046641</td>\n    </tr>\n    <tr>\n      <th>...</th>\n      <td>...</td>\n      <td>...</td>\n      <td>...</td>\n      <td>...</td>\n      <td>...</td>\n      <td>...</td>\n      <td>...</td>\n      <td>...</td>\n      <td>...</td>\n      <td>...</td>\n    </tr>\n    <tr>\n      <th>437</th>\n      <td>0.041708</td>\n      <td>0.050680</td>\n      <td>0.019662</td>\n      <td>0.059744</td>\n      <td>-0.005697</td>\n      <td>-0.002566</td>\n      <td>-0.028674</td>\n      <td>-0.002592</td>\n      <td>0.031193</td>\n      <td>0.007207</td>\n    </tr>\n    <tr>\n      <th>438</th>\n      <td>-0.005515</td>\n      <td>0.050680</td>\n      <td>-0.015906</td>\n      <td>-0.067642</td>\n      <td>0.049341</td>\n      <td>0.079165</td>\n      <td>-0.028674</td>\n      <td>0.034309</td>\n      <td>-0.018114</td>\n      <td>0.044485</td>\n    </tr>\n    <tr>\n      <th>439</th>\n      <td>0.041708</td>\n      <td>0.050680</td>\n      <td>-0.015906</td>\n      <td>0.017293</td>\n      <td>-0.037344</td>\n      <td>-0.013840</td>\n      <td>-0.024993</td>\n      <td>-0.011080</td>\n      <td>-0.046883</td>\n      <td>0.015491</td>\n    </tr>\n    <tr>\n      <th>440</th>\n      <td>-0.045472</td>\n      <td>-0.044642</td>\n      <td>0.039062</td>\n      <td>0.001215</td>\n      <td>0.016318</td>\n      <td>0.015283</td>\n      <td>-0.028674</td>\n      <td>0.026560</td>\n      <td>0.044529</td>\n      <td>-0.025930</td>\n    </tr>\n    <tr>\n      <th>441</th>\n      <td>-0.045472</td>\n      <td>-0.044642</td>\n      <td>-0.073030</td>\n      <td>-0.081413</td>\n      <td>0.083740</td>\n      <td>0.027809</td>\n      <td>0.173816</td>\n      <td>-0.039493</td>\n      <td>-0.004222</td>\n      <td>0.003064</td>\n    </tr>\n  </tbody>\n</table>\n<p>442 rows × 10 columns</p>\n</div>"
     },
     "execution_count": 52,
     "metadata": {},
     "output_type": "execute_result"
    }
   ],
   "source": [
    "X"
   ],
   "metadata": {
    "collapsed": false,
    "ExecuteTime": {
     "start_time": "2023-04-26T00:32:12.211151Z",
     "end_time": "2023-04-26T00:32:12.281381Z"
    }
   }
  },
  {
   "cell_type": "code",
   "execution_count": 53,
   "outputs": [
    {
     "data": {
      "text/plain": "0      151.0\n1       75.0\n2      141.0\n3      206.0\n4      135.0\n       ...  \n437    178.0\n438    104.0\n439    132.0\n440    220.0\n441     57.0\nName: target, Length: 442, dtype: float64"
     },
     "execution_count": 53,
     "metadata": {},
     "output_type": "execute_result"
    }
   ],
   "source": [
    "y"
   ],
   "metadata": {
    "collapsed": false,
    "ExecuteTime": {
     "start_time": "2023-04-26T00:32:17.965787Z",
     "end_time": "2023-04-26T00:32:17.994627Z"
    }
   }
  },
  {
   "cell_type": "code",
   "execution_count": 54,
   "outputs": [],
   "source": [
    "x_train,X_test,y_train,y_test=train_test_split(X,y,test_size=0.2,random_state=42)"
   ],
   "metadata": {
    "collapsed": false,
    "ExecuteTime": {
     "start_time": "2023-04-26T00:32:18.783771Z",
     "end_time": "2023-04-26T00:32:18.827954Z"
    }
   }
  },
  {
   "cell_type": "code",
   "execution_count": 55,
   "outputs": [
    {
     "data": {
      "text/plain": "17     144.0\n66     150.0\n137    280.0\n245    125.0\n31      59.0\n       ...  \n106    134.0\n270    202.0\n348    148.0\n435     64.0\n102    302.0\nName: target, Length: 353, dtype: float64"
     },
     "execution_count": 55,
     "metadata": {},
     "output_type": "execute_result"
    }
   ],
   "source": [
    "y_train"
   ],
   "metadata": {
    "collapsed": false,
    "ExecuteTime": {
     "start_time": "2023-04-26T00:32:19.756544Z",
     "end_time": "2023-04-26T00:32:19.757673Z"
    }
   }
  },
  {
   "cell_type": "code",
   "execution_count": 56,
   "outputs": [],
   "source": [
    "rt=DecisionTreeRegressor(criterion='friedman_mse',max_depth=5)"
   ],
   "metadata": {
    "collapsed": false,
    "ExecuteTime": {
     "start_time": "2023-04-26T00:32:22.180236Z",
     "end_time": "2023-04-26T00:32:22.209566Z"
    }
   }
  },
  {
   "cell_type": "code",
   "execution_count": 57,
   "outputs": [],
   "source": [
    "model=rt.fit(x_train,y_train)\n",
    "y_pred=model.predict(X_test)"
   ],
   "metadata": {
    "collapsed": false,
    "ExecuteTime": {
     "start_time": "2023-04-26T00:32:22.775096Z",
     "end_time": "2023-04-26T00:32:22.819869Z"
    }
   }
  },
  {
   "cell_type": "code",
   "execution_count": 58,
   "outputs": [
    {
     "data": {
      "text/plain": "0.2996503763415306"
     },
     "execution_count": 58,
     "metadata": {},
     "output_type": "execute_result"
    }
   ],
   "source": [
    "r2_score(y_test,y_pred)"
   ],
   "metadata": {
    "collapsed": false,
    "ExecuteTime": {
     "start_time": "2023-04-26T00:32:23.352126Z",
     "end_time": "2023-04-26T00:32:23.399893Z"
    }
   }
  },
  {
   "cell_type": "markdown",
   "source": [
    "# Hyperparameter training"
   ],
   "metadata": {
    "collapsed": false
   }
  },
  {
   "cell_type": "code",
   "execution_count": 59,
   "outputs": [],
   "source": [
    "param_grid = {\n",
    "    'max_depth':[2,4,8,10,None],\n",
    "    'criterion':['poisson','absolute_error','friedman_mse','squared_error'],\n",
    "    'max_features':[0.25,0.5,1.0],\n",
    "    'min_samples_split':[0.25,0.5,1.0]\n",
    "}"
   ],
   "metadata": {
    "collapsed": false,
    "ExecuteTime": {
     "start_time": "2023-04-26T00:32:24.857252Z",
     "end_time": "2023-04-26T00:32:24.903969Z"
    }
   }
  },
  {
   "cell_type": "code",
   "execution_count": 60,
   "outputs": [],
   "source": [
    "reg=GridSearchCV(DecisionTreeRegressor(),param_grid=param_grid)"
   ],
   "metadata": {
    "collapsed": false,
    "ExecuteTime": {
     "start_time": "2023-04-26T00:32:25.407720Z",
     "end_time": "2023-04-26T00:32:25.451861Z"
    }
   }
  },
  {
   "cell_type": "code",
   "execution_count": 61,
   "outputs": [
    {
     "data": {
      "text/plain": "GridSearchCV(estimator=DecisionTreeRegressor(),\n             param_grid={'criterion': ['poisson', 'absolute_error',\n                                       'friedman_mse', 'squared_error'],\n                         'max_depth': [2, 4, 8, 10, None],\n                         'max_features': [0.25, 0.5, 1.0],\n                         'min_samples_split': [0.25, 0.5, 1.0]})",
      "text/html": "<style>#sk-container-id-2 {color: black;background-color: white;}#sk-container-id-2 pre{padding: 0;}#sk-container-id-2 div.sk-toggleable {background-color: white;}#sk-container-id-2 label.sk-toggleable__label {cursor: pointer;display: block;width: 100%;margin-bottom: 0;padding: 0.3em;box-sizing: border-box;text-align: center;}#sk-container-id-2 label.sk-toggleable__label-arrow:before {content: \"▸\";float: left;margin-right: 0.25em;color: #696969;}#sk-container-id-2 label.sk-toggleable__label-arrow:hover:before {color: black;}#sk-container-id-2 div.sk-estimator:hover label.sk-toggleable__label-arrow:before {color: black;}#sk-container-id-2 div.sk-toggleable__content {max-height: 0;max-width: 0;overflow: hidden;text-align: left;background-color: #f0f8ff;}#sk-container-id-2 div.sk-toggleable__content pre {margin: 0.2em;color: black;border-radius: 0.25em;background-color: #f0f8ff;}#sk-container-id-2 input.sk-toggleable__control:checked~div.sk-toggleable__content {max-height: 200px;max-width: 100%;overflow: auto;}#sk-container-id-2 input.sk-toggleable__control:checked~label.sk-toggleable__label-arrow:before {content: \"▾\";}#sk-container-id-2 div.sk-estimator input.sk-toggleable__control:checked~label.sk-toggleable__label {background-color: #d4ebff;}#sk-container-id-2 div.sk-label input.sk-toggleable__control:checked~label.sk-toggleable__label {background-color: #d4ebff;}#sk-container-id-2 input.sk-hidden--visually {border: 0;clip: rect(1px 1px 1px 1px);clip: rect(1px, 1px, 1px, 1px);height: 1px;margin: -1px;overflow: hidden;padding: 0;position: absolute;width: 1px;}#sk-container-id-2 div.sk-estimator {font-family: monospace;background-color: #f0f8ff;border: 1px dotted black;border-radius: 0.25em;box-sizing: border-box;margin-bottom: 0.5em;}#sk-container-id-2 div.sk-estimator:hover {background-color: #d4ebff;}#sk-container-id-2 div.sk-parallel-item::after {content: \"\";width: 100%;border-bottom: 1px solid gray;flex-grow: 1;}#sk-container-id-2 div.sk-label:hover label.sk-toggleable__label {background-color: #d4ebff;}#sk-container-id-2 div.sk-serial::before {content: \"\";position: absolute;border-left: 1px solid gray;box-sizing: border-box;top: 0;bottom: 0;left: 50%;z-index: 0;}#sk-container-id-2 div.sk-serial {display: flex;flex-direction: column;align-items: center;background-color: white;padding-right: 0.2em;padding-left: 0.2em;position: relative;}#sk-container-id-2 div.sk-item {position: relative;z-index: 1;}#sk-container-id-2 div.sk-parallel {display: flex;align-items: stretch;justify-content: center;background-color: white;position: relative;}#sk-container-id-2 div.sk-item::before, #sk-container-id-2 div.sk-parallel-item::before {content: \"\";position: absolute;border-left: 1px solid gray;box-sizing: border-box;top: 0;bottom: 0;left: 50%;z-index: -1;}#sk-container-id-2 div.sk-parallel-item {display: flex;flex-direction: column;z-index: 1;position: relative;background-color: white;}#sk-container-id-2 div.sk-parallel-item:first-child::after {align-self: flex-end;width: 50%;}#sk-container-id-2 div.sk-parallel-item:last-child::after {align-self: flex-start;width: 50%;}#sk-container-id-2 div.sk-parallel-item:only-child::after {width: 0;}#sk-container-id-2 div.sk-dashed-wrapped {border: 1px dashed gray;margin: 0 0.4em 0.5em 0.4em;box-sizing: border-box;padding-bottom: 0.4em;background-color: white;}#sk-container-id-2 div.sk-label label {font-family: monospace;font-weight: bold;display: inline-block;line-height: 1.2em;}#sk-container-id-2 div.sk-label-container {text-align: center;}#sk-container-id-2 div.sk-container {/* jupyter's `normalize.less` sets `[hidden] { display: none; }` but bootstrap.min.css set `[hidden] { display: none !important; }` so we also need the `!important` here to be able to override the default hidden behavior on the sphinx rendered scikit-learn.org. See: https://github.com/scikit-learn/scikit-learn/issues/21755 */display: inline-block !important;position: relative;}#sk-container-id-2 div.sk-text-repr-fallback {display: none;}</style><div id=\"sk-container-id-2\" class=\"sk-top-container\"><div class=\"sk-text-repr-fallback\"><pre>GridSearchCV(estimator=DecisionTreeRegressor(),\n             param_grid={&#x27;criterion&#x27;: [&#x27;poisson&#x27;, &#x27;absolute_error&#x27;,\n                                       &#x27;friedman_mse&#x27;, &#x27;squared_error&#x27;],\n                         &#x27;max_depth&#x27;: [2, 4, 8, 10, None],\n                         &#x27;max_features&#x27;: [0.25, 0.5, 1.0],\n                         &#x27;min_samples_split&#x27;: [0.25, 0.5, 1.0]})</pre><b>In a Jupyter environment, please rerun this cell to show the HTML representation or trust the notebook. <br />On GitHub, the HTML representation is unable to render, please try loading this page with nbviewer.org.</b></div><div class=\"sk-container\" hidden><div class=\"sk-item sk-dashed-wrapped\"><div class=\"sk-label-container\"><div class=\"sk-label sk-toggleable\"><input class=\"sk-toggleable__control sk-hidden--visually\" id=\"sk-estimator-id-4\" type=\"checkbox\" ><label for=\"sk-estimator-id-4\" class=\"sk-toggleable__label sk-toggleable__label-arrow\">GridSearchCV</label><div class=\"sk-toggleable__content\"><pre>GridSearchCV(estimator=DecisionTreeRegressor(),\n             param_grid={&#x27;criterion&#x27;: [&#x27;poisson&#x27;, &#x27;absolute_error&#x27;,\n                                       &#x27;friedman_mse&#x27;, &#x27;squared_error&#x27;],\n                         &#x27;max_depth&#x27;: [2, 4, 8, 10, None],\n                         &#x27;max_features&#x27;: [0.25, 0.5, 1.0],\n                         &#x27;min_samples_split&#x27;: [0.25, 0.5, 1.0]})</pre></div></div></div><div class=\"sk-parallel\"><div class=\"sk-parallel-item\"><div class=\"sk-item\"><div class=\"sk-label-container\"><div class=\"sk-label sk-toggleable\"><input class=\"sk-toggleable__control sk-hidden--visually\" id=\"sk-estimator-id-5\" type=\"checkbox\" ><label for=\"sk-estimator-id-5\" class=\"sk-toggleable__label sk-toggleable__label-arrow\">estimator: DecisionTreeRegressor</label><div class=\"sk-toggleable__content\"><pre>DecisionTreeRegressor()</pre></div></div></div><div class=\"sk-serial\"><div class=\"sk-item\"><div class=\"sk-estimator sk-toggleable\"><input class=\"sk-toggleable__control sk-hidden--visually\" id=\"sk-estimator-id-6\" type=\"checkbox\" ><label for=\"sk-estimator-id-6\" class=\"sk-toggleable__label sk-toggleable__label-arrow\">DecisionTreeRegressor</label><div class=\"sk-toggleable__content\"><pre>DecisionTreeRegressor()</pre></div></div></div></div></div></div></div></div></div></div>"
     },
     "execution_count": 61,
     "metadata": {},
     "output_type": "execute_result"
    }
   ],
   "source": [
    "reg.fit(x_train,y_train)"
   ],
   "metadata": {
    "collapsed": false,
    "ExecuteTime": {
     "start_time": "2023-04-26T00:32:27.230283Z",
     "end_time": "2023-04-26T00:32:30.285593Z"
    }
   }
  },
  {
   "cell_type": "code",
   "execution_count": 62,
   "outputs": [
    {
     "data": {
      "text/plain": "0.35214874777961996"
     },
     "execution_count": 62,
     "metadata": {},
     "output_type": "execute_result"
    }
   ],
   "source": [
    "reg.best_score_"
   ],
   "metadata": {
    "collapsed": false,
    "ExecuteTime": {
     "start_time": "2023-04-26T00:32:32.222483Z",
     "end_time": "2023-04-26T00:32:32.264507Z"
    }
   }
  },
  {
   "cell_type": "code",
   "execution_count": 63,
   "outputs": [
    {
     "data": {
      "text/plain": "{'criterion': 'poisson',\n 'max_depth': 2,\n 'max_features': 1.0,\n 'min_samples_split': 0.25}"
     },
     "execution_count": 63,
     "metadata": {},
     "output_type": "execute_result"
    }
   ],
   "source": [
    "reg.best_params_"
   ],
   "metadata": {
    "collapsed": false,
    "ExecuteTime": {
     "start_time": "2023-04-26T00:32:33.954288Z",
     "end_time": "2023-04-26T00:32:33.971883Z"
    }
   }
  },
  {
   "cell_type": "markdown",
   "source": [
    "# Feature Importance"
   ],
   "metadata": {
    "collapsed": false
   }
  },
  {
   "cell_type": "code",
   "execution_count": 64,
   "outputs": [
    {
     "name": "stdout",
     "output_type": "stream",
     "text": [
      "bmi 0.5550435613732517\n",
      "s5 0.18621214193289745\n",
      "s1 0.06155043537879016\n",
      "s6 0.05095260741354219\n",
      "s4 0.04447473309338168\n",
      "bp 0.03495001464595481\n",
      "age 0.03153434186866714\n",
      "s3 0.016919896483982736\n",
      "s2 0.016554351245891455\n",
      "sex 0.0018079165636406863\n"
     ]
    }
   ],
   "source": [
    "for importance, name in sorted(zip(rt.feature_importances_,x_train.columns),reverse=True):\n",
    "    print(name, importance)"
   ],
   "metadata": {
    "collapsed": false,
    "ExecuteTime": {
     "start_time": "2023-04-26T00:32:42.094857Z",
     "end_time": "2023-04-26T00:32:42.140250Z"
    }
   }
  },
  {
   "cell_type": "code",
   "execution_count": null,
   "outputs": [],
   "source": [],
   "metadata": {
    "collapsed": false
   }
  }
 ],
 "metadata": {
  "kernelspec": {
   "display_name": "Python 3",
   "language": "python",
   "name": "python3"
  },
  "language_info": {
   "codemirror_mode": {
    "name": "ipython",
    "version": 2
   },
   "file_extension": ".py",
   "mimetype": "text/x-python",
   "name": "python",
   "nbconvert_exporter": "python",
   "pygments_lexer": "ipython2",
   "version": "2.7.6"
  }
 },
 "nbformat": 4,
 "nbformat_minor": 0
}
