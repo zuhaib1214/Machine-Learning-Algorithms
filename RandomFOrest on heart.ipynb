{
 "cells": [
  {
   "cell_type": "code",
   "execution_count": 1,
   "metadata": {
    "collapsed": true,
    "ExecuteTime": {
     "start_time": "2023-05-01T16:27:42.061532Z",
     "end_time": "2023-05-01T16:27:42.380934Z"
    }
   },
   "outputs": [],
   "source": [
    "import numpy as np\n",
    "import pandas as pd\n",
    "import matplotlib.pyplot as plt\n",
    "import seaborn as sns\n",
    "\n",
    "from sklearn.model_selection import train_test_split\n",
    "from sklearn.ensemble import RandomForestClassifier\n",
    "\n",
    "from sklearn.metrics import accuracy_score"
   ]
  },
  {
   "cell_type": "code",
   "execution_count": 2,
   "outputs": [],
   "source": [
    "df=pd.read_csv('heart.csv')"
   ],
   "metadata": {
    "collapsed": false,
    "ExecuteTime": {
     "start_time": "2023-05-01T16:27:45.387746Z",
     "end_time": "2023-05-01T16:27:45.400847Z"
    }
   }
  },
  {
   "cell_type": "code",
   "execution_count": 3,
   "outputs": [
    {
     "data": {
      "text/plain": "   age  sex  cp  trestbps  chol  fbs  restecg  thalach  exang  oldpeak  slope  \\\n0   63    1   3       145   233    1        0      150      0      2.3      0   \n1   37    1   2       130   250    0        1      187      0      3.5      0   \n2   41    0   1       130   204    0        0      172      0      1.4      2   \n3   56    1   1       120   236    0        1      178      0      0.8      2   \n4   57    0   0       120   354    0        1      163      1      0.6      2   \n\n   ca  thal  target  \n0   0     1       1  \n1   0     2       1  \n2   0     2       1  \n3   0     2       1  \n4   0     2       1  ",
      "text/html": "<div>\n<style scoped>\n    .dataframe tbody tr th:only-of-type {\n        vertical-align: middle;\n    }\n\n    .dataframe tbody tr th {\n        vertical-align: top;\n    }\n\n    .dataframe thead th {\n        text-align: right;\n    }\n</style>\n<table border=\"1\" class=\"dataframe\">\n  <thead>\n    <tr style=\"text-align: right;\">\n      <th></th>\n      <th>age</th>\n      <th>sex</th>\n      <th>cp</th>\n      <th>trestbps</th>\n      <th>chol</th>\n      <th>fbs</th>\n      <th>restecg</th>\n      <th>thalach</th>\n      <th>exang</th>\n      <th>oldpeak</th>\n      <th>slope</th>\n      <th>ca</th>\n      <th>thal</th>\n      <th>target</th>\n    </tr>\n  </thead>\n  <tbody>\n    <tr>\n      <th>0</th>\n      <td>63</td>\n      <td>1</td>\n      <td>3</td>\n      <td>145</td>\n      <td>233</td>\n      <td>1</td>\n      <td>0</td>\n      <td>150</td>\n      <td>0</td>\n      <td>2.3</td>\n      <td>0</td>\n      <td>0</td>\n      <td>1</td>\n      <td>1</td>\n    </tr>\n    <tr>\n      <th>1</th>\n      <td>37</td>\n      <td>1</td>\n      <td>2</td>\n      <td>130</td>\n      <td>250</td>\n      <td>0</td>\n      <td>1</td>\n      <td>187</td>\n      <td>0</td>\n      <td>3.5</td>\n      <td>0</td>\n      <td>0</td>\n      <td>2</td>\n      <td>1</td>\n    </tr>\n    <tr>\n      <th>2</th>\n      <td>41</td>\n      <td>0</td>\n      <td>1</td>\n      <td>130</td>\n      <td>204</td>\n      <td>0</td>\n      <td>0</td>\n      <td>172</td>\n      <td>0</td>\n      <td>1.4</td>\n      <td>2</td>\n      <td>0</td>\n      <td>2</td>\n      <td>1</td>\n    </tr>\n    <tr>\n      <th>3</th>\n      <td>56</td>\n      <td>1</td>\n      <td>1</td>\n      <td>120</td>\n      <td>236</td>\n      <td>0</td>\n      <td>1</td>\n      <td>178</td>\n      <td>0</td>\n      <td>0.8</td>\n      <td>2</td>\n      <td>0</td>\n      <td>2</td>\n      <td>1</td>\n    </tr>\n    <tr>\n      <th>4</th>\n      <td>57</td>\n      <td>0</td>\n      <td>0</td>\n      <td>120</td>\n      <td>354</td>\n      <td>0</td>\n      <td>1</td>\n      <td>163</td>\n      <td>1</td>\n      <td>0.6</td>\n      <td>2</td>\n      <td>0</td>\n      <td>2</td>\n      <td>1</td>\n    </tr>\n  </tbody>\n</table>\n</div>"
     },
     "execution_count": 3,
     "metadata": {},
     "output_type": "execute_result"
    }
   ],
   "source": [
    "df.head()"
   ],
   "metadata": {
    "collapsed": false,
    "ExecuteTime": {
     "start_time": "2023-05-01T16:27:49.474057Z",
     "end_time": "2023-05-01T16:27:49.556028Z"
    }
   }
  },
  {
   "cell_type": "code",
   "execution_count": 4,
   "outputs": [
    {
     "data": {
      "text/plain": "(303, 14)"
     },
     "execution_count": 4,
     "metadata": {},
     "output_type": "execute_result"
    }
   ],
   "source": [
    "df.shape"
   ],
   "metadata": {
    "collapsed": false,
    "ExecuteTime": {
     "start_time": "2023-05-01T16:28:03.700026Z",
     "end_time": "2023-05-01T16:28:03.718217Z"
    }
   }
  },
  {
   "cell_type": "code",
   "execution_count": 5,
   "outputs": [],
   "source": [
    "X=df.iloc[:,0:-1]\n",
    "y=df.iloc[:,-1]"
   ],
   "metadata": {
    "collapsed": false,
    "ExecuteTime": {
     "start_time": "2023-05-01T16:28:26.939368Z",
     "end_time": "2023-05-01T16:28:26.983230Z"
    }
   }
  },
  {
   "cell_type": "code",
   "execution_count": 7,
   "outputs": [],
   "source": [
    "X_train,X_test,y_train,y_test=train_test_split(X,y,test_size=0.2,random_state=42)"
   ],
   "metadata": {
    "collapsed": false,
    "ExecuteTime": {
     "start_time": "2023-05-01T16:28:57.071587Z",
     "end_time": "2023-05-01T16:28:57.084530Z"
    }
   }
  },
  {
   "cell_type": "code",
   "execution_count": 9,
   "outputs": [],
   "source": [
    "rf=RandomForestClassifier()"
   ],
   "metadata": {
    "collapsed": false,
    "ExecuteTime": {
     "start_time": "2023-05-01T16:29:14.968919Z",
     "end_time": "2023-05-01T16:29:15.012621Z"
    }
   }
  },
  {
   "cell_type": "code",
   "execution_count": 10,
   "outputs": [
    {
     "data": {
      "text/plain": "0.8524590163934426"
     },
     "execution_count": 10,
     "metadata": {},
     "output_type": "execute_result"
    }
   ],
   "source": [
    "model=rf.fit(X_train,y_train)\n",
    "y_pred=model.predict(X_test)\n",
    "accuracy_score(y_test,y_pred)"
   ],
   "metadata": {
    "collapsed": false,
    "ExecuteTime": {
     "start_time": "2023-05-01T16:29:45.710087Z",
     "end_time": "2023-05-01T16:29:45.922249Z"
    }
   }
  },
  {
   "cell_type": "code",
   "execution_count": 14,
   "outputs": [
    {
     "data": {
      "text/plain": "array([0.90322581, 0.80645161, 0.87096774, 0.9       , 0.9       ,\n       0.83333333, 0.73333333, 0.86666667, 0.73333333, 0.86666667])"
     },
     "execution_count": 14,
     "metadata": {},
     "output_type": "execute_result"
    }
   ],
   "source": [
    "from sklearn.model_selection import cross_val_score\n",
    "cross_val_score(RandomForestClassifier(),X,y,cv=10,scoring='accuracy')"
   ],
   "metadata": {
    "collapsed": false,
    "ExecuteTime": {
     "start_time": "2023-05-01T16:33:23.613831Z",
     "end_time": "2023-05-01T16:33:25.206443Z"
    }
   }
  },
  {
   "cell_type": "markdown",
   "source": [
    "# GridSearchCV"
   ],
   "metadata": {
    "collapsed": false
   }
  },
  {
   "cell_type": "code",
   "execution_count": 15,
   "outputs": [],
   "source": [
    "n_estimators=[20,60,100,120]\n",
    "\n",
    "max_features=[0.2,0.6,1.0]\n",
    "\n",
    "max_depth=[2,8,None]\n",
    "\n",
    "max_samples=[0.5,0.75,1.0]"
   ],
   "metadata": {
    "collapsed": false,
    "ExecuteTime": {
     "start_time": "2023-05-01T16:34:38.839629Z",
     "end_time": "2023-05-01T16:34:38.889724Z"
    }
   }
  },
  {
   "cell_type": "code",
   "execution_count": 19,
   "outputs": [],
   "source": [
    "param_grid={\n",
    "    'n_estimators':n_estimators,\n",
    "    'max_features':max_features,\n",
    "    'max_depth':max_depth,\n",
    "    'max_samples':max_samples\n",
    "}"
   ],
   "metadata": {
    "collapsed": false,
    "ExecuteTime": {
     "start_time": "2023-05-01T16:37:45.403394Z",
     "end_time": "2023-05-01T16:37:45.410990Z"
    }
   }
  },
  {
   "cell_type": "code",
   "execution_count": 20,
   "outputs": [],
   "source": [
    "r=RandomForestClassifier()"
   ],
   "metadata": {
    "collapsed": false,
    "ExecuteTime": {
     "start_time": "2023-05-01T16:37:52.888596Z",
     "end_time": "2023-05-01T16:37:52.919611Z"
    }
   }
  },
  {
   "cell_type": "code",
   "execution_count": 21,
   "outputs": [],
   "source": [
    "from sklearn.model_selection import GridSearchCV\n",
    "\n",
    "rf_grid=GridSearchCV(estimator=r,param_grid=param_grid,cv=5,verbose=2,n_jobs=1)"
   ],
   "metadata": {
    "collapsed": false,
    "ExecuteTime": {
     "start_time": "2023-05-01T16:38:40.799018Z",
     "end_time": "2023-05-01T16:38:40.814925Z"
    }
   }
  },
  {
   "cell_type": "code",
   "execution_count": 22,
   "outputs": [
    {
     "name": "stdout",
     "output_type": "stream",
     "text": [
      "Fitting 5 folds for each of 108 candidates, totalling 540 fits\n",
      "[CV] END max_depth=2, max_features=0.2, max_samples=0.5, n_estimators=20; total time=   0.1s\n",
      "[CV] END max_depth=2, max_features=0.2, max_samples=0.5, n_estimators=20; total time=   0.1s\n",
      "[CV] END max_depth=2, max_features=0.2, max_samples=0.5, n_estimators=20; total time=   0.0s\n",
      "[CV] END max_depth=2, max_features=0.2, max_samples=0.5, n_estimators=20; total time=   0.0s\n",
      "[CV] END max_depth=2, max_features=0.2, max_samples=0.5, n_estimators=20; total time=   0.1s\n",
      "[CV] END max_depth=2, max_features=0.2, max_samples=0.5, n_estimators=60; total time=   0.1s\n",
      "[CV] END max_depth=2, max_features=0.2, max_samples=0.5, n_estimators=60; total time=   0.1s\n",
      "[CV] END max_depth=2, max_features=0.2, max_samples=0.5, n_estimators=60; total time=   0.1s\n",
      "[CV] END max_depth=2, max_features=0.2, max_samples=0.5, n_estimators=60; total time=   0.1s\n",
      "[CV] END max_depth=2, max_features=0.2, max_samples=0.5, n_estimators=60; total time=   0.1s\n",
      "[CV] END max_depth=2, max_features=0.2, max_samples=0.5, n_estimators=100; total time=   0.2s\n",
      "[CV] END max_depth=2, max_features=0.2, max_samples=0.5, n_estimators=100; total time=   0.2s\n",
      "[CV] END max_depth=2, max_features=0.2, max_samples=0.5, n_estimators=100; total time=   0.2s\n",
      "[CV] END max_depth=2, max_features=0.2, max_samples=0.5, n_estimators=100; total time=   0.2s\n",
      "[CV] END max_depth=2, max_features=0.2, max_samples=0.5, n_estimators=100; total time=   0.2s\n",
      "[CV] END max_depth=2, max_features=0.2, max_samples=0.5, n_estimators=120; total time=   0.2s\n",
      "[CV] END max_depth=2, max_features=0.2, max_samples=0.5, n_estimators=120; total time=   0.2s\n",
      "[CV] END max_depth=2, max_features=0.2, max_samples=0.5, n_estimators=120; total time=   0.2s\n",
      "[CV] END max_depth=2, max_features=0.2, max_samples=0.5, n_estimators=120; total time=   0.2s\n",
      "[CV] END max_depth=2, max_features=0.2, max_samples=0.5, n_estimators=120; total time=   0.2s\n",
      "[CV] END max_depth=2, max_features=0.2, max_samples=0.75, n_estimators=20; total time=   0.0s\n",
      "[CV] END max_depth=2, max_features=0.2, max_samples=0.75, n_estimators=20; total time=   0.0s\n",
      "[CV] END max_depth=2, max_features=0.2, max_samples=0.75, n_estimators=20; total time=   0.0s\n",
      "[CV] END max_depth=2, max_features=0.2, max_samples=0.75, n_estimators=20; total time=   0.0s\n",
      "[CV] END max_depth=2, max_features=0.2, max_samples=0.75, n_estimators=20; total time=   0.0s\n",
      "[CV] END max_depth=2, max_features=0.2, max_samples=0.75, n_estimators=60; total time=   0.1s\n",
      "[CV] END max_depth=2, max_features=0.2, max_samples=0.75, n_estimators=60; total time=   0.1s\n",
      "[CV] END max_depth=2, max_features=0.2, max_samples=0.75, n_estimators=60; total time=   0.1s\n",
      "[CV] END max_depth=2, max_features=0.2, max_samples=0.75, n_estimators=60; total time=   0.1s\n",
      "[CV] END max_depth=2, max_features=0.2, max_samples=0.75, n_estimators=60; total time=   0.1s\n",
      "[CV] END max_depth=2, max_features=0.2, max_samples=0.75, n_estimators=100; total time=   0.2s\n",
      "[CV] END max_depth=2, max_features=0.2, max_samples=0.75, n_estimators=100; total time=   0.2s\n",
      "[CV] END max_depth=2, max_features=0.2, max_samples=0.75, n_estimators=100; total time=   0.2s\n",
      "[CV] END max_depth=2, max_features=0.2, max_samples=0.75, n_estimators=100; total time=   0.1s\n",
      "[CV] END max_depth=2, max_features=0.2, max_samples=0.75, n_estimators=100; total time=   0.2s\n",
      "[CV] END max_depth=2, max_features=0.2, max_samples=0.75, n_estimators=120; total time=   0.2s\n",
      "[CV] END max_depth=2, max_features=0.2, max_samples=0.75, n_estimators=120; total time=   0.2s\n",
      "[CV] END max_depth=2, max_features=0.2, max_samples=0.75, n_estimators=120; total time=   0.2s\n",
      "[CV] END max_depth=2, max_features=0.2, max_samples=0.75, n_estimators=120; total time=   0.2s\n",
      "[CV] END max_depth=2, max_features=0.2, max_samples=0.75, n_estimators=120; total time=   0.2s\n",
      "[CV] END max_depth=2, max_features=0.2, max_samples=1.0, n_estimators=20; total time=   0.0s\n",
      "[CV] END max_depth=2, max_features=0.2, max_samples=1.0, n_estimators=20; total time=   0.0s\n",
      "[CV] END max_depth=2, max_features=0.2, max_samples=1.0, n_estimators=20; total time=   0.0s\n",
      "[CV] END max_depth=2, max_features=0.2, max_samples=1.0, n_estimators=20; total time=   0.0s\n",
      "[CV] END max_depth=2, max_features=0.2, max_samples=1.0, n_estimators=20; total time=   0.0s\n",
      "[CV] END max_depth=2, max_features=0.2, max_samples=1.0, n_estimators=60; total time=   0.1s\n",
      "[CV] END max_depth=2, max_features=0.2, max_samples=1.0, n_estimators=60; total time=   0.1s\n",
      "[CV] END max_depth=2, max_features=0.2, max_samples=1.0, n_estimators=60; total time=   0.1s\n",
      "[CV] END max_depth=2, max_features=0.2, max_samples=1.0, n_estimators=60; total time=   0.1s\n",
      "[CV] END max_depth=2, max_features=0.2, max_samples=1.0, n_estimators=60; total time=   0.1s\n",
      "[CV] END max_depth=2, max_features=0.2, max_samples=1.0, n_estimators=100; total time=   0.2s\n",
      "[CV] END max_depth=2, max_features=0.2, max_samples=1.0, n_estimators=100; total time=   0.2s\n",
      "[CV] END max_depth=2, max_features=0.2, max_samples=1.0, n_estimators=100; total time=   0.2s\n",
      "[CV] END max_depth=2, max_features=0.2, max_samples=1.0, n_estimators=100; total time=   0.1s\n",
      "[CV] END max_depth=2, max_features=0.2, max_samples=1.0, n_estimators=100; total time=   0.2s\n",
      "[CV] END max_depth=2, max_features=0.2, max_samples=1.0, n_estimators=120; total time=   0.2s\n",
      "[CV] END max_depth=2, max_features=0.2, max_samples=1.0, n_estimators=120; total time=   0.2s\n",
      "[CV] END max_depth=2, max_features=0.2, max_samples=1.0, n_estimators=120; total time=   0.2s\n",
      "[CV] END max_depth=2, max_features=0.2, max_samples=1.0, n_estimators=120; total time=   0.2s\n",
      "[CV] END max_depth=2, max_features=0.2, max_samples=1.0, n_estimators=120; total time=   0.2s\n",
      "[CV] END max_depth=2, max_features=0.6, max_samples=0.5, n_estimators=20; total time=   0.0s\n",
      "[CV] END max_depth=2, max_features=0.6, max_samples=0.5, n_estimators=20; total time=   0.0s\n",
      "[CV] END max_depth=2, max_features=0.6, max_samples=0.5, n_estimators=20; total time=   0.0s\n",
      "[CV] END max_depth=2, max_features=0.6, max_samples=0.5, n_estimators=20; total time=   0.0s\n",
      "[CV] END max_depth=2, max_features=0.6, max_samples=0.5, n_estimators=20; total time=   0.0s\n",
      "[CV] END max_depth=2, max_features=0.6, max_samples=0.5, n_estimators=60; total time=   0.1s\n",
      "[CV] END max_depth=2, max_features=0.6, max_samples=0.5, n_estimators=60; total time=   0.1s\n",
      "[CV] END max_depth=2, max_features=0.6, max_samples=0.5, n_estimators=60; total time=   0.1s\n",
      "[CV] END max_depth=2, max_features=0.6, max_samples=0.5, n_estimators=60; total time=   0.1s\n",
      "[CV] END max_depth=2, max_features=0.6, max_samples=0.5, n_estimators=60; total time=   0.1s\n",
      "[CV] END max_depth=2, max_features=0.6, max_samples=0.5, n_estimators=100; total time=   0.2s\n",
      "[CV] END max_depth=2, max_features=0.6, max_samples=0.5, n_estimators=100; total time=   0.2s\n",
      "[CV] END max_depth=2, max_features=0.6, max_samples=0.5, n_estimators=100; total time=   0.2s\n",
      "[CV] END max_depth=2, max_features=0.6, max_samples=0.5, n_estimators=100; total time=   0.2s\n",
      "[CV] END max_depth=2, max_features=0.6, max_samples=0.5, n_estimators=100; total time=   0.2s\n",
      "[CV] END max_depth=2, max_features=0.6, max_samples=0.5, n_estimators=120; total time=   0.2s\n",
      "[CV] END max_depth=2, max_features=0.6, max_samples=0.5, n_estimators=120; total time=   0.2s\n",
      "[CV] END max_depth=2, max_features=0.6, max_samples=0.5, n_estimators=120; total time=   0.2s\n",
      "[CV] END max_depth=2, max_features=0.6, max_samples=0.5, n_estimators=120; total time=   0.2s\n",
      "[CV] END max_depth=2, max_features=0.6, max_samples=0.5, n_estimators=120; total time=   0.2s\n",
      "[CV] END max_depth=2, max_features=0.6, max_samples=0.75, n_estimators=20; total time=   0.0s\n",
      "[CV] END max_depth=2, max_features=0.6, max_samples=0.75, n_estimators=20; total time=   0.0s\n",
      "[CV] END max_depth=2, max_features=0.6, max_samples=0.75, n_estimators=20; total time=   0.0s\n",
      "[CV] END max_depth=2, max_features=0.6, max_samples=0.75, n_estimators=20; total time=   0.0s\n",
      "[CV] END max_depth=2, max_features=0.6, max_samples=0.75, n_estimators=20; total time=   0.0s\n",
      "[CV] END max_depth=2, max_features=0.6, max_samples=0.75, n_estimators=60; total time=   0.1s\n",
      "[CV] END max_depth=2, max_features=0.6, max_samples=0.75, n_estimators=60; total time=   0.1s\n",
      "[CV] END max_depth=2, max_features=0.6, max_samples=0.75, n_estimators=60; total time=   0.1s\n",
      "[CV] END max_depth=2, max_features=0.6, max_samples=0.75, n_estimators=60; total time=   0.1s\n",
      "[CV] END max_depth=2, max_features=0.6, max_samples=0.75, n_estimators=60; total time=   0.1s\n",
      "[CV] END max_depth=2, max_features=0.6, max_samples=0.75, n_estimators=100; total time=   0.2s\n",
      "[CV] END max_depth=2, max_features=0.6, max_samples=0.75, n_estimators=100; total time=   0.2s\n",
      "[CV] END max_depth=2, max_features=0.6, max_samples=0.75, n_estimators=100; total time=   0.2s\n",
      "[CV] END max_depth=2, max_features=0.6, max_samples=0.75, n_estimators=100; total time=   0.1s\n",
      "[CV] END max_depth=2, max_features=0.6, max_samples=0.75, n_estimators=100; total time=   0.2s\n",
      "[CV] END max_depth=2, max_features=0.6, max_samples=0.75, n_estimators=120; total time=   0.2s\n",
      "[CV] END max_depth=2, max_features=0.6, max_samples=0.75, n_estimators=120; total time=   0.2s\n",
      "[CV] END max_depth=2, max_features=0.6, max_samples=0.75, n_estimators=120; total time=   0.2s\n",
      "[CV] END max_depth=2, max_features=0.6, max_samples=0.75, n_estimators=120; total time=   0.2s\n",
      "[CV] END max_depth=2, max_features=0.6, max_samples=0.75, n_estimators=120; total time=   0.2s\n",
      "[CV] END max_depth=2, max_features=0.6, max_samples=1.0, n_estimators=20; total time=   0.0s\n",
      "[CV] END max_depth=2, max_features=0.6, max_samples=1.0, n_estimators=20; total time=   0.0s\n",
      "[CV] END max_depth=2, max_features=0.6, max_samples=1.0, n_estimators=20; total time=   0.0s\n",
      "[CV] END max_depth=2, max_features=0.6, max_samples=1.0, n_estimators=20; total time=   0.0s\n",
      "[CV] END max_depth=2, max_features=0.6, max_samples=1.0, n_estimators=20; total time=   0.0s\n",
      "[CV] END max_depth=2, max_features=0.6, max_samples=1.0, n_estimators=60; total time=   0.1s\n",
      "[CV] END max_depth=2, max_features=0.6, max_samples=1.0, n_estimators=60; total time=   0.1s\n",
      "[CV] END max_depth=2, max_features=0.6, max_samples=1.0, n_estimators=60; total time=   0.1s\n",
      "[CV] END max_depth=2, max_features=0.6, max_samples=1.0, n_estimators=60; total time=   0.1s\n",
      "[CV] END max_depth=2, max_features=0.6, max_samples=1.0, n_estimators=60; total time=   0.1s\n",
      "[CV] END max_depth=2, max_features=0.6, max_samples=1.0, n_estimators=100; total time=   0.2s\n",
      "[CV] END max_depth=2, max_features=0.6, max_samples=1.0, n_estimators=100; total time=   0.2s\n",
      "[CV] END max_depth=2, max_features=0.6, max_samples=1.0, n_estimators=100; total time=   0.2s\n",
      "[CV] END max_depth=2, max_features=0.6, max_samples=1.0, n_estimators=100; total time=   0.2s\n",
      "[CV] END max_depth=2, max_features=0.6, max_samples=1.0, n_estimators=100; total time=   0.2s\n",
      "[CV] END max_depth=2, max_features=0.6, max_samples=1.0, n_estimators=120; total time=   0.2s\n",
      "[CV] END max_depth=2, max_features=0.6, max_samples=1.0, n_estimators=120; total time=   0.2s\n",
      "[CV] END max_depth=2, max_features=0.6, max_samples=1.0, n_estimators=120; total time=   0.2s\n",
      "[CV] END max_depth=2, max_features=0.6, max_samples=1.0, n_estimators=120; total time=   0.2s\n",
      "[CV] END max_depth=2, max_features=0.6, max_samples=1.0, n_estimators=120; total time=   0.2s\n",
      "[CV] END max_depth=2, max_features=1.0, max_samples=0.5, n_estimators=20; total time=   0.0s\n",
      "[CV] END max_depth=2, max_features=1.0, max_samples=0.5, n_estimators=20; total time=   0.0s\n",
      "[CV] END max_depth=2, max_features=1.0, max_samples=0.5, n_estimators=20; total time=   0.0s\n",
      "[CV] END max_depth=2, max_features=1.0, max_samples=0.5, n_estimators=20; total time=   0.0s\n",
      "[CV] END max_depth=2, max_features=1.0, max_samples=0.5, n_estimators=20; total time=   0.0s\n",
      "[CV] END max_depth=2, max_features=1.0, max_samples=0.5, n_estimators=60; total time=   0.1s\n",
      "[CV] END max_depth=2, max_features=1.0, max_samples=0.5, n_estimators=60; total time=   0.1s\n",
      "[CV] END max_depth=2, max_features=1.0, max_samples=0.5, n_estimators=60; total time=   0.1s\n",
      "[CV] END max_depth=2, max_features=1.0, max_samples=0.5, n_estimators=60; total time=   0.1s\n",
      "[CV] END max_depth=2, max_features=1.0, max_samples=0.5, n_estimators=60; total time=   0.1s\n",
      "[CV] END max_depth=2, max_features=1.0, max_samples=0.5, n_estimators=100; total time=   0.2s\n",
      "[CV] END max_depth=2, max_features=1.0, max_samples=0.5, n_estimators=100; total time=   0.2s\n",
      "[CV] END max_depth=2, max_features=1.0, max_samples=0.5, n_estimators=100; total time=   0.2s\n",
      "[CV] END max_depth=2, max_features=1.0, max_samples=0.5, n_estimators=100; total time=   0.2s\n",
      "[CV] END max_depth=2, max_features=1.0, max_samples=0.5, n_estimators=100; total time=   0.2s\n",
      "[CV] END max_depth=2, max_features=1.0, max_samples=0.5, n_estimators=120; total time=   0.2s\n",
      "[CV] END max_depth=2, max_features=1.0, max_samples=0.5, n_estimators=120; total time=   0.2s\n",
      "[CV] END max_depth=2, max_features=1.0, max_samples=0.5, n_estimators=120; total time=   0.2s\n",
      "[CV] END max_depth=2, max_features=1.0, max_samples=0.5, n_estimators=120; total time=   0.2s\n",
      "[CV] END max_depth=2, max_features=1.0, max_samples=0.5, n_estimators=120; total time=   0.2s\n",
      "[CV] END max_depth=2, max_features=1.0, max_samples=0.75, n_estimators=20; total time=   0.0s\n",
      "[CV] END max_depth=2, max_features=1.0, max_samples=0.75, n_estimators=20; total time=   0.0s\n",
      "[CV] END max_depth=2, max_features=1.0, max_samples=0.75, n_estimators=20; total time=   0.0s\n",
      "[CV] END max_depth=2, max_features=1.0, max_samples=0.75, n_estimators=20; total time=   0.0s\n",
      "[CV] END max_depth=2, max_features=1.0, max_samples=0.75, n_estimators=20; total time=   0.0s\n",
      "[CV] END max_depth=2, max_features=1.0, max_samples=0.75, n_estimators=60; total time=   0.2s\n",
      "[CV] END max_depth=2, max_features=1.0, max_samples=0.75, n_estimators=60; total time=   0.1s\n",
      "[CV] END max_depth=2, max_features=1.0, max_samples=0.75, n_estimators=60; total time=   0.1s\n",
      "[CV] END max_depth=2, max_features=1.0, max_samples=0.75, n_estimators=60; total time=   0.1s\n",
      "[CV] END max_depth=2, max_features=1.0, max_samples=0.75, n_estimators=60; total time=   0.1s\n",
      "[CV] END max_depth=2, max_features=1.0, max_samples=0.75, n_estimators=100; total time=   0.2s\n",
      "[CV] END max_depth=2, max_features=1.0, max_samples=0.75, n_estimators=100; total time=   0.2s\n",
      "[CV] END max_depth=2, max_features=1.0, max_samples=0.75, n_estimators=100; total time=   0.2s\n",
      "[CV] END max_depth=2, max_features=1.0, max_samples=0.75, n_estimators=100; total time=   0.1s\n",
      "[CV] END max_depth=2, max_features=1.0, max_samples=0.75, n_estimators=100; total time=   0.2s\n",
      "[CV] END max_depth=2, max_features=1.0, max_samples=0.75, n_estimators=120; total time=   0.2s\n",
      "[CV] END max_depth=2, max_features=1.0, max_samples=0.75, n_estimators=120; total time=   0.2s\n",
      "[CV] END max_depth=2, max_features=1.0, max_samples=0.75, n_estimators=120; total time=   0.2s\n",
      "[CV] END max_depth=2, max_features=1.0, max_samples=0.75, n_estimators=120; total time=   0.2s\n",
      "[CV] END max_depth=2, max_features=1.0, max_samples=0.75, n_estimators=120; total time=   0.2s\n",
      "[CV] END max_depth=2, max_features=1.0, max_samples=1.0, n_estimators=20; total time=   0.0s\n",
      "[CV] END max_depth=2, max_features=1.0, max_samples=1.0, n_estimators=20; total time=   0.0s\n",
      "[CV] END max_depth=2, max_features=1.0, max_samples=1.0, n_estimators=20; total time=   0.0s\n",
      "[CV] END max_depth=2, max_features=1.0, max_samples=1.0, n_estimators=20; total time=   0.0s\n",
      "[CV] END max_depth=2, max_features=1.0, max_samples=1.0, n_estimators=20; total time=   0.0s\n",
      "[CV] END max_depth=2, max_features=1.0, max_samples=1.0, n_estimators=60; total time=   0.1s\n",
      "[CV] END max_depth=2, max_features=1.0, max_samples=1.0, n_estimators=60; total time=   0.1s\n",
      "[CV] END max_depth=2, max_features=1.0, max_samples=1.0, n_estimators=60; total time=   0.1s\n",
      "[CV] END max_depth=2, max_features=1.0, max_samples=1.0, n_estimators=60; total time=   0.1s\n",
      "[CV] END max_depth=2, max_features=1.0, max_samples=1.0, n_estimators=60; total time=   0.1s\n",
      "[CV] END max_depth=2, max_features=1.0, max_samples=1.0, n_estimators=100; total time=   0.2s\n",
      "[CV] END max_depth=2, max_features=1.0, max_samples=1.0, n_estimators=100; total time=   0.2s\n",
      "[CV] END max_depth=2, max_features=1.0, max_samples=1.0, n_estimators=100; total time=   0.2s\n",
      "[CV] END max_depth=2, max_features=1.0, max_samples=1.0, n_estimators=100; total time=   0.2s\n",
      "[CV] END max_depth=2, max_features=1.0, max_samples=1.0, n_estimators=100; total time=   0.2s\n",
      "[CV] END max_depth=2, max_features=1.0, max_samples=1.0, n_estimators=120; total time=   0.2s\n",
      "[CV] END max_depth=2, max_features=1.0, max_samples=1.0, n_estimators=120; total time=   0.2s\n",
      "[CV] END max_depth=2, max_features=1.0, max_samples=1.0, n_estimators=120; total time=   0.2s\n",
      "[CV] END max_depth=2, max_features=1.0, max_samples=1.0, n_estimators=120; total time=   0.2s\n",
      "[CV] END max_depth=2, max_features=1.0, max_samples=1.0, n_estimators=120; total time=   0.2s\n",
      "[CV] END max_depth=8, max_features=0.2, max_samples=0.5, n_estimators=20; total time=   0.0s\n",
      "[CV] END max_depth=8, max_features=0.2, max_samples=0.5, n_estimators=20; total time=   0.0s\n",
      "[CV] END max_depth=8, max_features=0.2, max_samples=0.5, n_estimators=20; total time=   0.0s\n",
      "[CV] END max_depth=8, max_features=0.2, max_samples=0.5, n_estimators=20; total time=   0.0s\n",
      "[CV] END max_depth=8, max_features=0.2, max_samples=0.5, n_estimators=20; total time=   0.0s\n",
      "[CV] END max_depth=8, max_features=0.2, max_samples=0.5, n_estimators=60; total time=   0.1s\n",
      "[CV] END max_depth=8, max_features=0.2, max_samples=0.5, n_estimators=60; total time=   0.1s\n",
      "[CV] END max_depth=8, max_features=0.2, max_samples=0.5, n_estimators=60; total time=   0.1s\n",
      "[CV] END max_depth=8, max_features=0.2, max_samples=0.5, n_estimators=60; total time=   0.1s\n",
      "[CV] END max_depth=8, max_features=0.2, max_samples=0.5, n_estimators=60; total time=   0.1s\n",
      "[CV] END max_depth=8, max_features=0.2, max_samples=0.5, n_estimators=100; total time=   0.2s\n",
      "[CV] END max_depth=8, max_features=0.2, max_samples=0.5, n_estimators=100; total time=   0.2s\n",
      "[CV] END max_depth=8, max_features=0.2, max_samples=0.5, n_estimators=100; total time=   0.2s\n",
      "[CV] END max_depth=8, max_features=0.2, max_samples=0.5, n_estimators=100; total time=   0.1s\n",
      "[CV] END max_depth=8, max_features=0.2, max_samples=0.5, n_estimators=100; total time=   0.2s\n",
      "[CV] END max_depth=8, max_features=0.2, max_samples=0.5, n_estimators=120; total time=   0.2s\n",
      "[CV] END max_depth=8, max_features=0.2, max_samples=0.5, n_estimators=120; total time=   0.2s\n",
      "[CV] END max_depth=8, max_features=0.2, max_samples=0.5, n_estimators=120; total time=   0.2s\n",
      "[CV] END max_depth=8, max_features=0.2, max_samples=0.5, n_estimators=120; total time=   0.2s\n",
      "[CV] END max_depth=8, max_features=0.2, max_samples=0.5, n_estimators=120; total time=   0.2s\n",
      "[CV] END max_depth=8, max_features=0.2, max_samples=0.75, n_estimators=20; total time=   0.0s\n",
      "[CV] END max_depth=8, max_features=0.2, max_samples=0.75, n_estimators=20; total time=   0.0s\n",
      "[CV] END max_depth=8, max_features=0.2, max_samples=0.75, n_estimators=20; total time=   0.0s\n",
      "[CV] END max_depth=8, max_features=0.2, max_samples=0.75, n_estimators=20; total time=   0.0s\n",
      "[CV] END max_depth=8, max_features=0.2, max_samples=0.75, n_estimators=20; total time=   0.0s\n",
      "[CV] END max_depth=8, max_features=0.2, max_samples=0.75, n_estimators=60; total time=   0.1s\n",
      "[CV] END max_depth=8, max_features=0.2, max_samples=0.75, n_estimators=60; total time=   0.1s\n",
      "[CV] END max_depth=8, max_features=0.2, max_samples=0.75, n_estimators=60; total time=   0.1s\n",
      "[CV] END max_depth=8, max_features=0.2, max_samples=0.75, n_estimators=60; total time=   0.1s\n",
      "[CV] END max_depth=8, max_features=0.2, max_samples=0.75, n_estimators=60; total time=   0.1s\n",
      "[CV] END max_depth=8, max_features=0.2, max_samples=0.75, n_estimators=100; total time=   0.2s\n",
      "[CV] END max_depth=8, max_features=0.2, max_samples=0.75, n_estimators=100; total time=   0.2s\n",
      "[CV] END max_depth=8, max_features=0.2, max_samples=0.75, n_estimators=100; total time=   0.2s\n",
      "[CV] END max_depth=8, max_features=0.2, max_samples=0.75, n_estimators=100; total time=   0.2s\n",
      "[CV] END max_depth=8, max_features=0.2, max_samples=0.75, n_estimators=100; total time=   0.2s\n",
      "[CV] END max_depth=8, max_features=0.2, max_samples=0.75, n_estimators=120; total time=   0.2s\n",
      "[CV] END max_depth=8, max_features=0.2, max_samples=0.75, n_estimators=120; total time=   0.2s\n",
      "[CV] END max_depth=8, max_features=0.2, max_samples=0.75, n_estimators=120; total time=   0.2s\n",
      "[CV] END max_depth=8, max_features=0.2, max_samples=0.75, n_estimators=120; total time=   0.2s\n",
      "[CV] END max_depth=8, max_features=0.2, max_samples=0.75, n_estimators=120; total time=   0.2s\n",
      "[CV] END max_depth=8, max_features=0.2, max_samples=1.0, n_estimators=20; total time=   0.0s\n",
      "[CV] END max_depth=8, max_features=0.2, max_samples=1.0, n_estimators=20; total time=   0.0s\n",
      "[CV] END max_depth=8, max_features=0.2, max_samples=1.0, n_estimators=20; total time=   0.0s\n",
      "[CV] END max_depth=8, max_features=0.2, max_samples=1.0, n_estimators=20; total time=   0.0s\n",
      "[CV] END max_depth=8, max_features=0.2, max_samples=1.0, n_estimators=20; total time=   0.0s\n",
      "[CV] END max_depth=8, max_features=0.2, max_samples=1.0, n_estimators=60; total time=   0.1s\n",
      "[CV] END max_depth=8, max_features=0.2, max_samples=1.0, n_estimators=60; total time=   0.1s\n",
      "[CV] END max_depth=8, max_features=0.2, max_samples=1.0, n_estimators=60; total time=   0.1s\n",
      "[CV] END max_depth=8, max_features=0.2, max_samples=1.0, n_estimators=60; total time=   0.1s\n",
      "[CV] END max_depth=8, max_features=0.2, max_samples=1.0, n_estimators=60; total time=   0.1s\n",
      "[CV] END max_depth=8, max_features=0.2, max_samples=1.0, n_estimators=100; total time=   0.3s\n",
      "[CV] END max_depth=8, max_features=0.2, max_samples=1.0, n_estimators=100; total time=   0.2s\n",
      "[CV] END max_depth=8, max_features=0.2, max_samples=1.0, n_estimators=100; total time=   0.2s\n",
      "[CV] END max_depth=8, max_features=0.2, max_samples=1.0, n_estimators=100; total time=   0.2s\n",
      "[CV] END max_depth=8, max_features=0.2, max_samples=1.0, n_estimators=100; total time=   0.2s\n",
      "[CV] END max_depth=8, max_features=0.2, max_samples=1.0, n_estimators=120; total time=   0.2s\n",
      "[CV] END max_depth=8, max_features=0.2, max_samples=1.0, n_estimators=120; total time=   0.2s\n",
      "[CV] END max_depth=8, max_features=0.2, max_samples=1.0, n_estimators=120; total time=   0.2s\n",
      "[CV] END max_depth=8, max_features=0.2, max_samples=1.0, n_estimators=120; total time=   0.2s\n",
      "[CV] END max_depth=8, max_features=0.2, max_samples=1.0, n_estimators=120; total time=   0.2s\n",
      "[CV] END max_depth=8, max_features=0.6, max_samples=0.5, n_estimators=20; total time=   0.0s\n",
      "[CV] END max_depth=8, max_features=0.6, max_samples=0.5, n_estimators=20; total time=   0.0s\n",
      "[CV] END max_depth=8, max_features=0.6, max_samples=0.5, n_estimators=20; total time=   0.0s\n",
      "[CV] END max_depth=8, max_features=0.6, max_samples=0.5, n_estimators=20; total time=   0.0s\n",
      "[CV] END max_depth=8, max_features=0.6, max_samples=0.5, n_estimators=20; total time=   0.0s\n",
      "[CV] END max_depth=8, max_features=0.6, max_samples=0.5, n_estimators=60; total time=   0.1s\n",
      "[CV] END max_depth=8, max_features=0.6, max_samples=0.5, n_estimators=60; total time=   0.1s\n",
      "[CV] END max_depth=8, max_features=0.6, max_samples=0.5, n_estimators=60; total time=   0.1s\n",
      "[CV] END max_depth=8, max_features=0.6, max_samples=0.5, n_estimators=60; total time=   0.1s\n",
      "[CV] END max_depth=8, max_features=0.6, max_samples=0.5, n_estimators=60; total time=   0.1s\n",
      "[CV] END max_depth=8, max_features=0.6, max_samples=0.5, n_estimators=100; total time=   0.2s\n",
      "[CV] END max_depth=8, max_features=0.6, max_samples=0.5, n_estimators=100; total time=   0.2s\n",
      "[CV] END max_depth=8, max_features=0.6, max_samples=0.5, n_estimators=100; total time=   0.2s\n",
      "[CV] END max_depth=8, max_features=0.6, max_samples=0.5, n_estimators=100; total time=   0.2s\n",
      "[CV] END max_depth=8, max_features=0.6, max_samples=0.5, n_estimators=100; total time=   0.2s\n",
      "[CV] END max_depth=8, max_features=0.6, max_samples=0.5, n_estimators=120; total time=   0.2s\n",
      "[CV] END max_depth=8, max_features=0.6, max_samples=0.5, n_estimators=120; total time=   0.2s\n",
      "[CV] END max_depth=8, max_features=0.6, max_samples=0.5, n_estimators=120; total time=   0.2s\n",
      "[CV] END max_depth=8, max_features=0.6, max_samples=0.5, n_estimators=120; total time=   0.2s\n",
      "[CV] END max_depth=8, max_features=0.6, max_samples=0.5, n_estimators=120; total time=   0.2s\n",
      "[CV] END max_depth=8, max_features=0.6, max_samples=0.75, n_estimators=20; total time=   0.0s\n",
      "[CV] END max_depth=8, max_features=0.6, max_samples=0.75, n_estimators=20; total time=   0.0s\n",
      "[CV] END max_depth=8, max_features=0.6, max_samples=0.75, n_estimators=20; total time=   0.0s\n",
      "[CV] END max_depth=8, max_features=0.6, max_samples=0.75, n_estimators=20; total time=   0.0s\n",
      "[CV] END max_depth=8, max_features=0.6, max_samples=0.75, n_estimators=20; total time=   0.0s\n",
      "[CV] END max_depth=8, max_features=0.6, max_samples=0.75, n_estimators=60; total time=   0.1s\n",
      "[CV] END max_depth=8, max_features=0.6, max_samples=0.75, n_estimators=60; total time=   0.1s\n",
      "[CV] END max_depth=8, max_features=0.6, max_samples=0.75, n_estimators=60; total time=   0.1s\n",
      "[CV] END max_depth=8, max_features=0.6, max_samples=0.75, n_estimators=60; total time=   0.1s\n",
      "[CV] END max_depth=8, max_features=0.6, max_samples=0.75, n_estimators=60; total time=   0.1s\n",
      "[CV] END max_depth=8, max_features=0.6, max_samples=0.75, n_estimators=100; total time=   0.2s\n",
      "[CV] END max_depth=8, max_features=0.6, max_samples=0.75, n_estimators=100; total time=   0.2s\n",
      "[CV] END max_depth=8, max_features=0.6, max_samples=0.75, n_estimators=100; total time=   0.2s\n",
      "[CV] END max_depth=8, max_features=0.6, max_samples=0.75, n_estimators=100; total time=   0.2s\n",
      "[CV] END max_depth=8, max_features=0.6, max_samples=0.75, n_estimators=100; total time=   0.2s\n",
      "[CV] END max_depth=8, max_features=0.6, max_samples=0.75, n_estimators=120; total time=   0.2s\n",
      "[CV] END max_depth=8, max_features=0.6, max_samples=0.75, n_estimators=120; total time=   0.2s\n",
      "[CV] END max_depth=8, max_features=0.6, max_samples=0.75, n_estimators=120; total time=   0.2s\n",
      "[CV] END max_depth=8, max_features=0.6, max_samples=0.75, n_estimators=120; total time=   0.2s\n",
      "[CV] END max_depth=8, max_features=0.6, max_samples=0.75, n_estimators=120; total time=   0.2s\n",
      "[CV] END max_depth=8, max_features=0.6, max_samples=1.0, n_estimators=20; total time=   0.0s\n",
      "[CV] END max_depth=8, max_features=0.6, max_samples=1.0, n_estimators=20; total time=   0.0s\n",
      "[CV] END max_depth=8, max_features=0.6, max_samples=1.0, n_estimators=20; total time=   0.0s\n",
      "[CV] END max_depth=8, max_features=0.6, max_samples=1.0, n_estimators=20; total time=   0.0s\n",
      "[CV] END max_depth=8, max_features=0.6, max_samples=1.0, n_estimators=20; total time=   0.0s\n",
      "[CV] END max_depth=8, max_features=0.6, max_samples=1.0, n_estimators=60; total time=   0.1s\n",
      "[CV] END max_depth=8, max_features=0.6, max_samples=1.0, n_estimators=60; total time=   0.1s\n",
      "[CV] END max_depth=8, max_features=0.6, max_samples=1.0, n_estimators=60; total time=   0.1s\n",
      "[CV] END max_depth=8, max_features=0.6, max_samples=1.0, n_estimators=60; total time=   0.1s\n",
      "[CV] END max_depth=8, max_features=0.6, max_samples=1.0, n_estimators=60; total time=   0.1s\n",
      "[CV] END max_depth=8, max_features=0.6, max_samples=1.0, n_estimators=100; total time=   0.2s\n",
      "[CV] END max_depth=8, max_features=0.6, max_samples=1.0, n_estimators=100; total time=   0.2s\n",
      "[CV] END max_depth=8, max_features=0.6, max_samples=1.0, n_estimators=100; total time=   0.2s\n",
      "[CV] END max_depth=8, max_features=0.6, max_samples=1.0, n_estimators=100; total time=   0.2s\n",
      "[CV] END max_depth=8, max_features=0.6, max_samples=1.0, n_estimators=100; total time=   0.2s\n",
      "[CV] END max_depth=8, max_features=0.6, max_samples=1.0, n_estimators=120; total time=   0.2s\n",
      "[CV] END max_depth=8, max_features=0.6, max_samples=1.0, n_estimators=120; total time=   0.2s\n",
      "[CV] END max_depth=8, max_features=0.6, max_samples=1.0, n_estimators=120; total time=   0.2s\n",
      "[CV] END max_depth=8, max_features=0.6, max_samples=1.0, n_estimators=120; total time=   0.2s\n",
      "[CV] END max_depth=8, max_features=0.6, max_samples=1.0, n_estimators=120; total time=   0.2s\n",
      "[CV] END max_depth=8, max_features=1.0, max_samples=0.5, n_estimators=20; total time=   0.0s\n",
      "[CV] END max_depth=8, max_features=1.0, max_samples=0.5, n_estimators=20; total time=   0.0s\n",
      "[CV] END max_depth=8, max_features=1.0, max_samples=0.5, n_estimators=20; total time=   0.0s\n",
      "[CV] END max_depth=8, max_features=1.0, max_samples=0.5, n_estimators=20; total time=   0.0s\n",
      "[CV] END max_depth=8, max_features=1.0, max_samples=0.5, n_estimators=20; total time=   0.0s\n",
      "[CV] END max_depth=8, max_features=1.0, max_samples=0.5, n_estimators=60; total time=   0.1s\n",
      "[CV] END max_depth=8, max_features=1.0, max_samples=0.5, n_estimators=60; total time=   0.1s\n",
      "[CV] END max_depth=8, max_features=1.0, max_samples=0.5, n_estimators=60; total time=   0.1s\n",
      "[CV] END max_depth=8, max_features=1.0, max_samples=0.5, n_estimators=60; total time=   0.1s\n",
      "[CV] END max_depth=8, max_features=1.0, max_samples=0.5, n_estimators=60; total time=   0.1s\n",
      "[CV] END max_depth=8, max_features=1.0, max_samples=0.5, n_estimators=100; total time=   0.2s\n",
      "[CV] END max_depth=8, max_features=1.0, max_samples=0.5, n_estimators=100; total time=   0.2s\n",
      "[CV] END max_depth=8, max_features=1.0, max_samples=0.5, n_estimators=100; total time=   0.2s\n",
      "[CV] END max_depth=8, max_features=1.0, max_samples=0.5, n_estimators=100; total time=   0.2s\n",
      "[CV] END max_depth=8, max_features=1.0, max_samples=0.5, n_estimators=100; total time=   0.2s\n",
      "[CV] END max_depth=8, max_features=1.0, max_samples=0.5, n_estimators=120; total time=   0.2s\n",
      "[CV] END max_depth=8, max_features=1.0, max_samples=0.5, n_estimators=120; total time=   0.2s\n",
      "[CV] END max_depth=8, max_features=1.0, max_samples=0.5, n_estimators=120; total time=   0.2s\n",
      "[CV] END max_depth=8, max_features=1.0, max_samples=0.5, n_estimators=120; total time=   0.2s\n",
      "[CV] END max_depth=8, max_features=1.0, max_samples=0.5, n_estimators=120; total time=   0.2s\n",
      "[CV] END max_depth=8, max_features=1.0, max_samples=0.75, n_estimators=20; total time=   0.0s\n",
      "[CV] END max_depth=8, max_features=1.0, max_samples=0.75, n_estimators=20; total time=   0.0s\n",
      "[CV] END max_depth=8, max_features=1.0, max_samples=0.75, n_estimators=20; total time=   0.0s\n",
      "[CV] END max_depth=8, max_features=1.0, max_samples=0.75, n_estimators=20; total time=   0.0s\n",
      "[CV] END max_depth=8, max_features=1.0, max_samples=0.75, n_estimators=20; total time=   0.0s\n",
      "[CV] END max_depth=8, max_features=1.0, max_samples=0.75, n_estimators=60; total time=   0.1s\n",
      "[CV] END max_depth=8, max_features=1.0, max_samples=0.75, n_estimators=60; total time=   0.1s\n",
      "[CV] END max_depth=8, max_features=1.0, max_samples=0.75, n_estimators=60; total time=   0.1s\n",
      "[CV] END max_depth=8, max_features=1.0, max_samples=0.75, n_estimators=60; total time=   0.1s\n",
      "[CV] END max_depth=8, max_features=1.0, max_samples=0.75, n_estimators=60; total time=   0.1s\n",
      "[CV] END max_depth=8, max_features=1.0, max_samples=0.75, n_estimators=100; total time=   0.2s\n",
      "[CV] END max_depth=8, max_features=1.0, max_samples=0.75, n_estimators=100; total time=   0.2s\n",
      "[CV] END max_depth=8, max_features=1.0, max_samples=0.75, n_estimators=100; total time=   0.2s\n",
      "[CV] END max_depth=8, max_features=1.0, max_samples=0.75, n_estimators=100; total time=   0.2s\n",
      "[CV] END max_depth=8, max_features=1.0, max_samples=0.75, n_estimators=100; total time=   0.2s\n",
      "[CV] END max_depth=8, max_features=1.0, max_samples=0.75, n_estimators=120; total time=   0.2s\n",
      "[CV] END max_depth=8, max_features=1.0, max_samples=0.75, n_estimators=120; total time=   0.2s\n",
      "[CV] END max_depth=8, max_features=1.0, max_samples=0.75, n_estimators=120; total time=   0.2s\n",
      "[CV] END max_depth=8, max_features=1.0, max_samples=0.75, n_estimators=120; total time=   0.2s\n",
      "[CV] END max_depth=8, max_features=1.0, max_samples=0.75, n_estimators=120; total time=   0.2s\n",
      "[CV] END max_depth=8, max_features=1.0, max_samples=1.0, n_estimators=20; total time=   0.0s\n",
      "[CV] END max_depth=8, max_features=1.0, max_samples=1.0, n_estimators=20; total time=   0.0s\n",
      "[CV] END max_depth=8, max_features=1.0, max_samples=1.0, n_estimators=20; total time=   0.0s\n",
      "[CV] END max_depth=8, max_features=1.0, max_samples=1.0, n_estimators=20; total time=   0.0s\n",
      "[CV] END max_depth=8, max_features=1.0, max_samples=1.0, n_estimators=20; total time=   0.0s\n",
      "[CV] END max_depth=8, max_features=1.0, max_samples=1.0, n_estimators=60; total time=   0.1s\n",
      "[CV] END max_depth=8, max_features=1.0, max_samples=1.0, n_estimators=60; total time=   0.1s\n",
      "[CV] END max_depth=8, max_features=1.0, max_samples=1.0, n_estimators=60; total time=   0.1s\n",
      "[CV] END max_depth=8, max_features=1.0, max_samples=1.0, n_estimators=60; total time=   0.1s\n",
      "[CV] END max_depth=8, max_features=1.0, max_samples=1.0, n_estimators=60; total time=   0.1s\n",
      "[CV] END max_depth=8, max_features=1.0, max_samples=1.0, n_estimators=100; total time=   0.2s\n",
      "[CV] END max_depth=8, max_features=1.0, max_samples=1.0, n_estimators=100; total time=   0.2s\n",
      "[CV] END max_depth=8, max_features=1.0, max_samples=1.0, n_estimators=100; total time=   0.3s\n",
      "[CV] END max_depth=8, max_features=1.0, max_samples=1.0, n_estimators=100; total time=   0.3s\n",
      "[CV] END max_depth=8, max_features=1.0, max_samples=1.0, n_estimators=100; total time=   0.2s\n",
      "[CV] END max_depth=8, max_features=1.0, max_samples=1.0, n_estimators=120; total time=   0.2s\n",
      "[CV] END max_depth=8, max_features=1.0, max_samples=1.0, n_estimators=120; total time=   0.3s\n",
      "[CV] END max_depth=8, max_features=1.0, max_samples=1.0, n_estimators=120; total time=   0.3s\n",
      "[CV] END max_depth=8, max_features=1.0, max_samples=1.0, n_estimators=120; total time=   0.2s\n",
      "[CV] END max_depth=8, max_features=1.0, max_samples=1.0, n_estimators=120; total time=   0.3s\n",
      "[CV] END max_depth=None, max_features=0.2, max_samples=0.5, n_estimators=20; total time=   0.1s\n",
      "[CV] END max_depth=None, max_features=0.2, max_samples=0.5, n_estimators=20; total time=   0.0s\n",
      "[CV] END max_depth=None, max_features=0.2, max_samples=0.5, n_estimators=20; total time=   0.0s\n",
      "[CV] END max_depth=None, max_features=0.2, max_samples=0.5, n_estimators=20; total time=   0.1s\n",
      "[CV] END max_depth=None, max_features=0.2, max_samples=0.5, n_estimators=20; total time=   0.1s\n",
      "[CV] END max_depth=None, max_features=0.2, max_samples=0.5, n_estimators=60; total time=   0.1s\n",
      "[CV] END max_depth=None, max_features=0.2, max_samples=0.5, n_estimators=60; total time=   0.2s\n",
      "[CV] END max_depth=None, max_features=0.2, max_samples=0.5, n_estimators=60; total time=   0.2s\n",
      "[CV] END max_depth=None, max_features=0.2, max_samples=0.5, n_estimators=60; total time=   0.1s\n",
      "[CV] END max_depth=None, max_features=0.2, max_samples=0.5, n_estimators=60; total time=   0.1s\n",
      "[CV] END max_depth=None, max_features=0.2, max_samples=0.5, n_estimators=100; total time=   0.1s\n",
      "[CV] END max_depth=None, max_features=0.2, max_samples=0.5, n_estimators=100; total time=   0.1s\n",
      "[CV] END max_depth=None, max_features=0.2, max_samples=0.5, n_estimators=100; total time=   0.2s\n",
      "[CV] END max_depth=None, max_features=0.2, max_samples=0.5, n_estimators=100; total time=   0.1s\n",
      "[CV] END max_depth=None, max_features=0.2, max_samples=0.5, n_estimators=100; total time=   0.1s\n",
      "[CV] END max_depth=None, max_features=0.2, max_samples=0.5, n_estimators=120; total time=   0.1s\n",
      "[CV] END max_depth=None, max_features=0.2, max_samples=0.5, n_estimators=120; total time=   0.2s\n",
      "[CV] END max_depth=None, max_features=0.2, max_samples=0.5, n_estimators=120; total time=   0.2s\n",
      "[CV] END max_depth=None, max_features=0.2, max_samples=0.5, n_estimators=120; total time=   0.2s\n",
      "[CV] END max_depth=None, max_features=0.2, max_samples=0.5, n_estimators=120; total time=   0.1s\n",
      "[CV] END max_depth=None, max_features=0.2, max_samples=0.75, n_estimators=20; total time=   0.0s\n",
      "[CV] END max_depth=None, max_features=0.2, max_samples=0.75, n_estimators=20; total time=   0.0s\n",
      "[CV] END max_depth=None, max_features=0.2, max_samples=0.75, n_estimators=20; total time=   0.0s\n",
      "[CV] END max_depth=None, max_features=0.2, max_samples=0.75, n_estimators=20; total time=   0.0s\n",
      "[CV] END max_depth=None, max_features=0.2, max_samples=0.75, n_estimators=20; total time=   0.0s\n",
      "[CV] END max_depth=None, max_features=0.2, max_samples=0.75, n_estimators=60; total time=   0.1s\n",
      "[CV] END max_depth=None, max_features=0.2, max_samples=0.75, n_estimators=60; total time=   0.1s\n",
      "[CV] END max_depth=None, max_features=0.2, max_samples=0.75, n_estimators=60; total time=   0.1s\n",
      "[CV] END max_depth=None, max_features=0.2, max_samples=0.75, n_estimators=60; total time=   0.1s\n",
      "[CV] END max_depth=None, max_features=0.2, max_samples=0.75, n_estimators=60; total time=   0.1s\n",
      "[CV] END max_depth=None, max_features=0.2, max_samples=0.75, n_estimators=100; total time=   0.1s\n",
      "[CV] END max_depth=None, max_features=0.2, max_samples=0.75, n_estimators=100; total time=   0.2s\n",
      "[CV] END max_depth=None, max_features=0.2, max_samples=0.75, n_estimators=100; total time=   0.1s\n",
      "[CV] END max_depth=None, max_features=0.2, max_samples=0.75, n_estimators=100; total time=   0.2s\n",
      "[CV] END max_depth=None, max_features=0.2, max_samples=0.75, n_estimators=100; total time=   0.2s\n",
      "[CV] END max_depth=None, max_features=0.2, max_samples=0.75, n_estimators=120; total time=   0.2s\n",
      "[CV] END max_depth=None, max_features=0.2, max_samples=0.75, n_estimators=120; total time=   0.1s\n",
      "[CV] END max_depth=None, max_features=0.2, max_samples=0.75, n_estimators=120; total time=   0.2s\n",
      "[CV] END max_depth=None, max_features=0.2, max_samples=0.75, n_estimators=120; total time=   0.2s\n",
      "[CV] END max_depth=None, max_features=0.2, max_samples=0.75, n_estimators=120; total time=   0.2s\n",
      "[CV] END max_depth=None, max_features=0.2, max_samples=1.0, n_estimators=20; total time=   0.0s\n",
      "[CV] END max_depth=None, max_features=0.2, max_samples=1.0, n_estimators=20; total time=   0.0s\n",
      "[CV] END max_depth=None, max_features=0.2, max_samples=1.0, n_estimators=20; total time=   0.0s\n",
      "[CV] END max_depth=None, max_features=0.2, max_samples=1.0, n_estimators=20; total time=   0.0s\n",
      "[CV] END max_depth=None, max_features=0.2, max_samples=1.0, n_estimators=20; total time=   0.0s\n",
      "[CV] END max_depth=None, max_features=0.2, max_samples=1.0, n_estimators=60; total time=   0.1s\n",
      "[CV] END max_depth=None, max_features=0.2, max_samples=1.0, n_estimators=60; total time=   0.1s\n",
      "[CV] END max_depth=None, max_features=0.2, max_samples=1.0, n_estimators=60; total time=   0.1s\n",
      "[CV] END max_depth=None, max_features=0.2, max_samples=1.0, n_estimators=60; total time=   0.1s\n",
      "[CV] END max_depth=None, max_features=0.2, max_samples=1.0, n_estimators=60; total time=   0.1s\n",
      "[CV] END max_depth=None, max_features=0.2, max_samples=1.0, n_estimators=100; total time=   0.1s\n",
      "[CV] END max_depth=None, max_features=0.2, max_samples=1.0, n_estimators=100; total time=   0.1s\n",
      "[CV] END max_depth=None, max_features=0.2, max_samples=1.0, n_estimators=100; total time=   0.1s\n",
      "[CV] END max_depth=None, max_features=0.2, max_samples=1.0, n_estimators=100; total time=   0.1s\n",
      "[CV] END max_depth=None, max_features=0.2, max_samples=1.0, n_estimators=100; total time=   0.1s\n",
      "[CV] END max_depth=None, max_features=0.2, max_samples=1.0, n_estimators=120; total time=   0.1s\n",
      "[CV] END max_depth=None, max_features=0.2, max_samples=1.0, n_estimators=120; total time=   0.2s\n",
      "[CV] END max_depth=None, max_features=0.2, max_samples=1.0, n_estimators=120; total time=   0.1s\n",
      "[CV] END max_depth=None, max_features=0.2, max_samples=1.0, n_estimators=120; total time=   0.2s\n",
      "[CV] END max_depth=None, max_features=0.2, max_samples=1.0, n_estimators=120; total time=   0.1s\n",
      "[CV] END max_depth=None, max_features=0.6, max_samples=0.5, n_estimators=20; total time=   0.0s\n",
      "[CV] END max_depth=None, max_features=0.6, max_samples=0.5, n_estimators=20; total time=   0.0s\n",
      "[CV] END max_depth=None, max_features=0.6, max_samples=0.5, n_estimators=20; total time=   0.0s\n",
      "[CV] END max_depth=None, max_features=0.6, max_samples=0.5, n_estimators=20; total time=   0.0s\n",
      "[CV] END max_depth=None, max_features=0.6, max_samples=0.5, n_estimators=20; total time=   0.0s\n",
      "[CV] END max_depth=None, max_features=0.6, max_samples=0.5, n_estimators=60; total time=   0.1s\n",
      "[CV] END max_depth=None, max_features=0.6, max_samples=0.5, n_estimators=60; total time=   0.1s\n",
      "[CV] END max_depth=None, max_features=0.6, max_samples=0.5, n_estimators=60; total time=   0.1s\n",
      "[CV] END max_depth=None, max_features=0.6, max_samples=0.5, n_estimators=60; total time=   0.1s\n",
      "[CV] END max_depth=None, max_features=0.6, max_samples=0.5, n_estimators=60; total time=   0.1s\n",
      "[CV] END max_depth=None, max_features=0.6, max_samples=0.5, n_estimators=100; total time=   0.1s\n",
      "[CV] END max_depth=None, max_features=0.6, max_samples=0.5, n_estimators=100; total time=   0.1s\n",
      "[CV] END max_depth=None, max_features=0.6, max_samples=0.5, n_estimators=100; total time=   0.1s\n",
      "[CV] END max_depth=None, max_features=0.6, max_samples=0.5, n_estimators=100; total time=   0.1s\n",
      "[CV] END max_depth=None, max_features=0.6, max_samples=0.5, n_estimators=100; total time=   0.1s\n",
      "[CV] END max_depth=None, max_features=0.6, max_samples=0.5, n_estimators=120; total time=   0.2s\n",
      "[CV] END max_depth=None, max_features=0.6, max_samples=0.5, n_estimators=120; total time=   0.1s\n",
      "[CV] END max_depth=None, max_features=0.6, max_samples=0.5, n_estimators=120; total time=   0.2s\n",
      "[CV] END max_depth=None, max_features=0.6, max_samples=0.5, n_estimators=120; total time=   0.1s\n",
      "[CV] END max_depth=None, max_features=0.6, max_samples=0.5, n_estimators=120; total time=   0.2s\n",
      "[CV] END max_depth=None, max_features=0.6, max_samples=0.75, n_estimators=20; total time=   0.0s\n",
      "[CV] END max_depth=None, max_features=0.6, max_samples=0.75, n_estimators=20; total time=   0.0s\n",
      "[CV] END max_depth=None, max_features=0.6, max_samples=0.75, n_estimators=20; total time=   0.0s\n",
      "[CV] END max_depth=None, max_features=0.6, max_samples=0.75, n_estimators=20; total time=   0.0s\n",
      "[CV] END max_depth=None, max_features=0.6, max_samples=0.75, n_estimators=20; total time=   0.0s\n",
      "[CV] END max_depth=None, max_features=0.6, max_samples=0.75, n_estimators=60; total time=   0.1s\n",
      "[CV] END max_depth=None, max_features=0.6, max_samples=0.75, n_estimators=60; total time=   0.1s\n",
      "[CV] END max_depth=None, max_features=0.6, max_samples=0.75, n_estimators=60; total time=   0.1s\n",
      "[CV] END max_depth=None, max_features=0.6, max_samples=0.75, n_estimators=60; total time=   0.1s\n",
      "[CV] END max_depth=None, max_features=0.6, max_samples=0.75, n_estimators=60; total time=   0.1s\n",
      "[CV] END max_depth=None, max_features=0.6, max_samples=0.75, n_estimators=100; total time=   0.1s\n",
      "[CV] END max_depth=None, max_features=0.6, max_samples=0.75, n_estimators=100; total time=   0.1s\n",
      "[CV] END max_depth=None, max_features=0.6, max_samples=0.75, n_estimators=100; total time=   0.1s\n",
      "[CV] END max_depth=None, max_features=0.6, max_samples=0.75, n_estimators=100; total time=   0.1s\n",
      "[CV] END max_depth=None, max_features=0.6, max_samples=0.75, n_estimators=100; total time=   0.2s\n",
      "[CV] END max_depth=None, max_features=0.6, max_samples=0.75, n_estimators=120; total time=   0.2s\n",
      "[CV] END max_depth=None, max_features=0.6, max_samples=0.75, n_estimators=120; total time=   0.2s\n",
      "[CV] END max_depth=None, max_features=0.6, max_samples=0.75, n_estimators=120; total time=   0.2s\n",
      "[CV] END max_depth=None, max_features=0.6, max_samples=0.75, n_estimators=120; total time=   0.2s\n",
      "[CV] END max_depth=None, max_features=0.6, max_samples=0.75, n_estimators=120; total time=   0.1s\n",
      "[CV] END max_depth=None, max_features=0.6, max_samples=1.0, n_estimators=20; total time=   0.0s\n",
      "[CV] END max_depth=None, max_features=0.6, max_samples=1.0, n_estimators=20; total time=   0.0s\n",
      "[CV] END max_depth=None, max_features=0.6, max_samples=1.0, n_estimators=20; total time=   0.0s\n",
      "[CV] END max_depth=None, max_features=0.6, max_samples=1.0, n_estimators=20; total time=   0.0s\n",
      "[CV] END max_depth=None, max_features=0.6, max_samples=1.0, n_estimators=20; total time=   0.0s\n",
      "[CV] END max_depth=None, max_features=0.6, max_samples=1.0, n_estimators=60; total time=   0.1s\n",
      "[CV] END max_depth=None, max_features=0.6, max_samples=1.0, n_estimators=60; total time=   0.1s\n",
      "[CV] END max_depth=None, max_features=0.6, max_samples=1.0, n_estimators=60; total time=   0.1s\n",
      "[CV] END max_depth=None, max_features=0.6, max_samples=1.0, n_estimators=60; total time=   0.1s\n",
      "[CV] END max_depth=None, max_features=0.6, max_samples=1.0, n_estimators=60; total time=   0.1s\n",
      "[CV] END max_depth=None, max_features=0.6, max_samples=1.0, n_estimators=100; total time=   0.1s\n",
      "[CV] END max_depth=None, max_features=0.6, max_samples=1.0, n_estimators=100; total time=   0.1s\n",
      "[CV] END max_depth=None, max_features=0.6, max_samples=1.0, n_estimators=100; total time=   0.1s\n",
      "[CV] END max_depth=None, max_features=0.6, max_samples=1.0, n_estimators=100; total time=   0.1s\n",
      "[CV] END max_depth=None, max_features=0.6, max_samples=1.0, n_estimators=100; total time=   0.1s\n",
      "[CV] END max_depth=None, max_features=0.6, max_samples=1.0, n_estimators=120; total time=   0.2s\n",
      "[CV] END max_depth=None, max_features=0.6, max_samples=1.0, n_estimators=120; total time=   0.2s\n",
      "[CV] END max_depth=None, max_features=0.6, max_samples=1.0, n_estimators=120; total time=   0.2s\n",
      "[CV] END max_depth=None, max_features=0.6, max_samples=1.0, n_estimators=120; total time=   0.2s\n",
      "[CV] END max_depth=None, max_features=0.6, max_samples=1.0, n_estimators=120; total time=   0.2s\n",
      "[CV] END max_depth=None, max_features=1.0, max_samples=0.5, n_estimators=20; total time=   0.0s\n",
      "[CV] END max_depth=None, max_features=1.0, max_samples=0.5, n_estimators=20; total time=   0.0s\n",
      "[CV] END max_depth=None, max_features=1.0, max_samples=0.5, n_estimators=20; total time=   0.0s\n",
      "[CV] END max_depth=None, max_features=1.0, max_samples=0.5, n_estimators=20; total time=   0.0s\n",
      "[CV] END max_depth=None, max_features=1.0, max_samples=0.5, n_estimators=20; total time=   0.0s\n",
      "[CV] END max_depth=None, max_features=1.0, max_samples=0.5, n_estimators=60; total time=   0.1s\n",
      "[CV] END max_depth=None, max_features=1.0, max_samples=0.5, n_estimators=60; total time=   0.1s\n",
      "[CV] END max_depth=None, max_features=1.0, max_samples=0.5, n_estimators=60; total time=   0.1s\n",
      "[CV] END max_depth=None, max_features=1.0, max_samples=0.5, n_estimators=60; total time=   0.1s\n",
      "[CV] END max_depth=None, max_features=1.0, max_samples=0.5, n_estimators=60; total time=   0.1s\n",
      "[CV] END max_depth=None, max_features=1.0, max_samples=0.5, n_estimators=100; total time=   0.1s\n",
      "[CV] END max_depth=None, max_features=1.0, max_samples=0.5, n_estimators=100; total time=   0.1s\n",
      "[CV] END max_depth=None, max_features=1.0, max_samples=0.5, n_estimators=100; total time=   0.2s\n",
      "[CV] END max_depth=None, max_features=1.0, max_samples=0.5, n_estimators=100; total time=   0.1s\n",
      "[CV] END max_depth=None, max_features=1.0, max_samples=0.5, n_estimators=100; total time=   0.1s\n",
      "[CV] END max_depth=None, max_features=1.0, max_samples=0.5, n_estimators=120; total time=   0.2s\n",
      "[CV] END max_depth=None, max_features=1.0, max_samples=0.5, n_estimators=120; total time=   0.2s\n",
      "[CV] END max_depth=None, max_features=1.0, max_samples=0.5, n_estimators=120; total time=   0.2s\n",
      "[CV] END max_depth=None, max_features=1.0, max_samples=0.5, n_estimators=120; total time=   0.2s\n",
      "[CV] END max_depth=None, max_features=1.0, max_samples=0.5, n_estimators=120; total time=   0.1s\n",
      "[CV] END max_depth=None, max_features=1.0, max_samples=0.75, n_estimators=20; total time=   0.0s\n",
      "[CV] END max_depth=None, max_features=1.0, max_samples=0.75, n_estimators=20; total time=   0.0s\n",
      "[CV] END max_depth=None, max_features=1.0, max_samples=0.75, n_estimators=20; total time=   0.0s\n",
      "[CV] END max_depth=None, max_features=1.0, max_samples=0.75, n_estimators=20; total time=   0.0s\n",
      "[CV] END max_depth=None, max_features=1.0, max_samples=0.75, n_estimators=20; total time=   0.0s\n",
      "[CV] END max_depth=None, max_features=1.0, max_samples=0.75, n_estimators=60; total time=   0.1s\n",
      "[CV] END max_depth=None, max_features=1.0, max_samples=0.75, n_estimators=60; total time=   0.1s\n",
      "[CV] END max_depth=None, max_features=1.0, max_samples=0.75, n_estimators=60; total time=   0.1s\n",
      "[CV] END max_depth=None, max_features=1.0, max_samples=0.75, n_estimators=60; total time=   0.1s\n",
      "[CV] END max_depth=None, max_features=1.0, max_samples=0.75, n_estimators=60; total time=   0.1s\n",
      "[CV] END max_depth=None, max_features=1.0, max_samples=0.75, n_estimators=100; total time=   0.1s\n",
      "[CV] END max_depth=None, max_features=1.0, max_samples=0.75, n_estimators=100; total time=   0.2s\n",
      "[CV] END max_depth=None, max_features=1.0, max_samples=0.75, n_estimators=100; total time=   0.1s\n",
      "[CV] END max_depth=None, max_features=1.0, max_samples=0.75, n_estimators=100; total time=   0.2s\n",
      "[CV] END max_depth=None, max_features=1.0, max_samples=0.75, n_estimators=100; total time=   0.1s\n",
      "[CV] END max_depth=None, max_features=1.0, max_samples=0.75, n_estimators=120; total time=   0.2s\n",
      "[CV] END max_depth=None, max_features=1.0, max_samples=0.75, n_estimators=120; total time=   0.2s\n",
      "[CV] END max_depth=None, max_features=1.0, max_samples=0.75, n_estimators=120; total time=   0.2s\n",
      "[CV] END max_depth=None, max_features=1.0, max_samples=0.75, n_estimators=120; total time=   0.2s\n",
      "[CV] END max_depth=None, max_features=1.0, max_samples=0.75, n_estimators=120; total time=   0.2s\n",
      "[CV] END max_depth=None, max_features=1.0, max_samples=1.0, n_estimators=20; total time=   0.0s\n",
      "[CV] END max_depth=None, max_features=1.0, max_samples=1.0, n_estimators=20; total time=   0.0s\n",
      "[CV] END max_depth=None, max_features=1.0, max_samples=1.0, n_estimators=20; total time=   0.0s\n",
      "[CV] END max_depth=None, max_features=1.0, max_samples=1.0, n_estimators=20; total time=   0.0s\n",
      "[CV] END max_depth=None, max_features=1.0, max_samples=1.0, n_estimators=20; total time=   0.0s\n",
      "[CV] END max_depth=None, max_features=1.0, max_samples=1.0, n_estimators=60; total time=   0.1s\n",
      "[CV] END max_depth=None, max_features=1.0, max_samples=1.0, n_estimators=60; total time=   0.1s\n",
      "[CV] END max_depth=None, max_features=1.0, max_samples=1.0, n_estimators=60; total time=   0.1s\n",
      "[CV] END max_depth=None, max_features=1.0, max_samples=1.0, n_estimators=60; total time=   0.1s\n",
      "[CV] END max_depth=None, max_features=1.0, max_samples=1.0, n_estimators=60; total time=   0.1s\n",
      "[CV] END max_depth=None, max_features=1.0, max_samples=1.0, n_estimators=100; total time=   0.1s\n",
      "[CV] END max_depth=None, max_features=1.0, max_samples=1.0, n_estimators=100; total time=   0.1s\n",
      "[CV] END max_depth=None, max_features=1.0, max_samples=1.0, n_estimators=100; total time=   0.2s\n",
      "[CV] END max_depth=None, max_features=1.0, max_samples=1.0, n_estimators=100; total time=   0.1s\n",
      "[CV] END max_depth=None, max_features=1.0, max_samples=1.0, n_estimators=100; total time=   0.1s\n",
      "[CV] END max_depth=None, max_features=1.0, max_samples=1.0, n_estimators=120; total time=   0.2s\n",
      "[CV] END max_depth=None, max_features=1.0, max_samples=1.0, n_estimators=120; total time=   0.2s\n",
      "[CV] END max_depth=None, max_features=1.0, max_samples=1.0, n_estimators=120; total time=   0.2s\n",
      "[CV] END max_depth=None, max_features=1.0, max_samples=1.0, n_estimators=120; total time=   0.2s\n",
      "[CV] END max_depth=None, max_features=1.0, max_samples=1.0, n_estimators=120; total time=   0.2s\n"
     ]
    },
    {
     "data": {
      "text/plain": "GridSearchCV(cv=5, estimator=RandomForestClassifier(), n_jobs=1,\n             param_grid={'max_depth': [2, 8, None],\n                         'max_features': [0.2, 0.6, 1.0],\n                         'max_samples': [0.5, 0.75, 1.0],\n                         'n_estimators': [20, 60, 100, 120]},\n             verbose=2)",
      "text/html": "<style>#sk-container-id-1 {color: black;background-color: white;}#sk-container-id-1 pre{padding: 0;}#sk-container-id-1 div.sk-toggleable {background-color: white;}#sk-container-id-1 label.sk-toggleable__label {cursor: pointer;display: block;width: 100%;margin-bottom: 0;padding: 0.3em;box-sizing: border-box;text-align: center;}#sk-container-id-1 label.sk-toggleable__label-arrow:before {content: \"▸\";float: left;margin-right: 0.25em;color: #696969;}#sk-container-id-1 label.sk-toggleable__label-arrow:hover:before {color: black;}#sk-container-id-1 div.sk-estimator:hover label.sk-toggleable__label-arrow:before {color: black;}#sk-container-id-1 div.sk-toggleable__content {max-height: 0;max-width: 0;overflow: hidden;text-align: left;background-color: #f0f8ff;}#sk-container-id-1 div.sk-toggleable__content pre {margin: 0.2em;color: black;border-radius: 0.25em;background-color: #f0f8ff;}#sk-container-id-1 input.sk-toggleable__control:checked~div.sk-toggleable__content {max-height: 200px;max-width: 100%;overflow: auto;}#sk-container-id-1 input.sk-toggleable__control:checked~label.sk-toggleable__label-arrow:before {content: \"▾\";}#sk-container-id-1 div.sk-estimator input.sk-toggleable__control:checked~label.sk-toggleable__label {background-color: #d4ebff;}#sk-container-id-1 div.sk-label input.sk-toggleable__control:checked~label.sk-toggleable__label {background-color: #d4ebff;}#sk-container-id-1 input.sk-hidden--visually {border: 0;clip: rect(1px 1px 1px 1px);clip: rect(1px, 1px, 1px, 1px);height: 1px;margin: -1px;overflow: hidden;padding: 0;position: absolute;width: 1px;}#sk-container-id-1 div.sk-estimator {font-family: monospace;background-color: #f0f8ff;border: 1px dotted black;border-radius: 0.25em;box-sizing: border-box;margin-bottom: 0.5em;}#sk-container-id-1 div.sk-estimator:hover {background-color: #d4ebff;}#sk-container-id-1 div.sk-parallel-item::after {content: \"\";width: 100%;border-bottom: 1px solid gray;flex-grow: 1;}#sk-container-id-1 div.sk-label:hover label.sk-toggleable__label {background-color: #d4ebff;}#sk-container-id-1 div.sk-serial::before {content: \"\";position: absolute;border-left: 1px solid gray;box-sizing: border-box;top: 0;bottom: 0;left: 50%;z-index: 0;}#sk-container-id-1 div.sk-serial {display: flex;flex-direction: column;align-items: center;background-color: white;padding-right: 0.2em;padding-left: 0.2em;position: relative;}#sk-container-id-1 div.sk-item {position: relative;z-index: 1;}#sk-container-id-1 div.sk-parallel {display: flex;align-items: stretch;justify-content: center;background-color: white;position: relative;}#sk-container-id-1 div.sk-item::before, #sk-container-id-1 div.sk-parallel-item::before {content: \"\";position: absolute;border-left: 1px solid gray;box-sizing: border-box;top: 0;bottom: 0;left: 50%;z-index: -1;}#sk-container-id-1 div.sk-parallel-item {display: flex;flex-direction: column;z-index: 1;position: relative;background-color: white;}#sk-container-id-1 div.sk-parallel-item:first-child::after {align-self: flex-end;width: 50%;}#sk-container-id-1 div.sk-parallel-item:last-child::after {align-self: flex-start;width: 50%;}#sk-container-id-1 div.sk-parallel-item:only-child::after {width: 0;}#sk-container-id-1 div.sk-dashed-wrapped {border: 1px dashed gray;margin: 0 0.4em 0.5em 0.4em;box-sizing: border-box;padding-bottom: 0.4em;background-color: white;}#sk-container-id-1 div.sk-label label {font-family: monospace;font-weight: bold;display: inline-block;line-height: 1.2em;}#sk-container-id-1 div.sk-label-container {text-align: center;}#sk-container-id-1 div.sk-container {/* jupyter's `normalize.less` sets `[hidden] { display: none; }` but bootstrap.min.css set `[hidden] { display: none !important; }` so we also need the `!important` here to be able to override the default hidden behavior on the sphinx rendered scikit-learn.org. See: https://github.com/scikit-learn/scikit-learn/issues/21755 */display: inline-block !important;position: relative;}#sk-container-id-1 div.sk-text-repr-fallback {display: none;}</style><div id=\"sk-container-id-1\" class=\"sk-top-container\"><div class=\"sk-text-repr-fallback\"><pre>GridSearchCV(cv=5, estimator=RandomForestClassifier(), n_jobs=1,\n             param_grid={&#x27;max_depth&#x27;: [2, 8, None],\n                         &#x27;max_features&#x27;: [0.2, 0.6, 1.0],\n                         &#x27;max_samples&#x27;: [0.5, 0.75, 1.0],\n                         &#x27;n_estimators&#x27;: [20, 60, 100, 120]},\n             verbose=2)</pre><b>In a Jupyter environment, please rerun this cell to show the HTML representation or trust the notebook. <br />On GitHub, the HTML representation is unable to render, please try loading this page with nbviewer.org.</b></div><div class=\"sk-container\" hidden><div class=\"sk-item sk-dashed-wrapped\"><div class=\"sk-label-container\"><div class=\"sk-label sk-toggleable\"><input class=\"sk-toggleable__control sk-hidden--visually\" id=\"sk-estimator-id-1\" type=\"checkbox\" ><label for=\"sk-estimator-id-1\" class=\"sk-toggleable__label sk-toggleable__label-arrow\">GridSearchCV</label><div class=\"sk-toggleable__content\"><pre>GridSearchCV(cv=5, estimator=RandomForestClassifier(), n_jobs=1,\n             param_grid={&#x27;max_depth&#x27;: [2, 8, None],\n                         &#x27;max_features&#x27;: [0.2, 0.6, 1.0],\n                         &#x27;max_samples&#x27;: [0.5, 0.75, 1.0],\n                         &#x27;n_estimators&#x27;: [20, 60, 100, 120]},\n             verbose=2)</pre></div></div></div><div class=\"sk-parallel\"><div class=\"sk-parallel-item\"><div class=\"sk-item\"><div class=\"sk-label-container\"><div class=\"sk-label sk-toggleable\"><input class=\"sk-toggleable__control sk-hidden--visually\" id=\"sk-estimator-id-2\" type=\"checkbox\" ><label for=\"sk-estimator-id-2\" class=\"sk-toggleable__label sk-toggleable__label-arrow\">estimator: RandomForestClassifier</label><div class=\"sk-toggleable__content\"><pre>RandomForestClassifier()</pre></div></div></div><div class=\"sk-serial\"><div class=\"sk-item\"><div class=\"sk-estimator sk-toggleable\"><input class=\"sk-toggleable__control sk-hidden--visually\" id=\"sk-estimator-id-3\" type=\"checkbox\" ><label for=\"sk-estimator-id-3\" class=\"sk-toggleable__label sk-toggleable__label-arrow\">RandomForestClassifier</label><div class=\"sk-toggleable__content\"><pre>RandomForestClassifier()</pre></div></div></div></div></div></div></div></div></div></div>"
     },
     "execution_count": 22,
     "metadata": {},
     "output_type": "execute_result"
    }
   ],
   "source": [
    "rf_grid.fit(X_train,y_train)"
   ],
   "metadata": {
    "collapsed": false,
    "ExecuteTime": {
     "start_time": "2023-05-01T16:38:53.489835Z",
     "end_time": "2023-05-01T16:39:59.931091Z"
    }
   }
  },
  {
   "cell_type": "code",
   "execution_count": 24,
   "outputs": [
    {
     "data": {
      "text/plain": "{'max_depth': 2, 'max_features': 0.2, 'max_samples': 1.0, 'n_estimators': 20}"
     },
     "execution_count": 24,
     "metadata": {},
     "output_type": "execute_result"
    }
   ],
   "source": [
    "rf_grid.best_params_"
   ],
   "metadata": {
    "collapsed": false,
    "ExecuteTime": {
     "start_time": "2023-05-01T16:46:51.907500Z",
     "end_time": "2023-05-01T16:46:51.918606Z"
    }
   }
  },
  {
   "cell_type": "code",
   "execution_count": 25,
   "outputs": [
    {
     "data": {
      "text/plain": "0.8346938775510203"
     },
     "execution_count": 25,
     "metadata": {},
     "output_type": "execute_result"
    }
   ],
   "source": [
    "rf_grid.best_score_"
   ],
   "metadata": {
    "collapsed": false,
    "ExecuteTime": {
     "start_time": "2023-05-01T16:47:01.216583Z",
     "end_time": "2023-05-01T16:47:01.248034Z"
    }
   }
  },
  {
   "cell_type": "markdown",
   "source": [
    "# RadomSearchCV"
   ],
   "metadata": {
    "collapsed": false
   }
  },
  {
   "cell_type": "code",
   "execution_count": 27,
   "outputs": [],
   "source": [
    "n_estimators=[20,60,100,120]\n",
    "\n",
    "max_features=[0.2,0.6,1.0]\n",
    "\n",
    "max_depth=[2,8,None]\n",
    "\n",
    "max_samples=[0.5,0.75,1.0]\n",
    "\n",
    "bootstrap=[True,False]"
   ],
   "metadata": {
    "collapsed": false,
    "ExecuteTime": {
     "start_time": "2023-05-01T16:52:22.992892Z",
     "end_time": "2023-05-01T16:52:22.998686Z"
    }
   }
  },
  {
   "cell_type": "code",
   "execution_count": 28,
   "outputs": [],
   "source": [
    "param_grid={\n",
    "    'n_estimators':n_estimators,\n",
    "    'max_features':max_features,\n",
    "    'max_depth':max_depth,\n",
    "    'max_samples':max_samples,\n",
    "    'bootstrap':bootstrap\n",
    "}"
   ],
   "metadata": {
    "collapsed": false,
    "ExecuteTime": {
     "start_time": "2023-05-01T16:52:39.689905Z",
     "end_time": "2023-05-01T16:52:39.708662Z"
    }
   }
  },
  {
   "cell_type": "code",
   "execution_count": 29,
   "outputs": [],
   "source": [
    "r=RandomForestClassifier()"
   ],
   "metadata": {
    "collapsed": false,
    "ExecuteTime": {
     "start_time": "2023-05-01T16:52:45.648921Z",
     "end_time": "2023-05-01T16:52:45.680347Z"
    }
   }
  },
  {
   "cell_type": "code",
   "execution_count": 30,
   "outputs": [],
   "source": [
    "from sklearn.model_selection import RandomizedSearchCV\n",
    "\n",
    "rf_grid=RandomizedSearchCV(estimator=r,param_distributions=param_grid,cv=5,verbose=2,n_jobs=1)"
   ],
   "metadata": {
    "collapsed": false,
    "ExecuteTime": {
     "start_time": "2023-05-01T16:53:44.056258Z",
     "end_time": "2023-05-01T16:53:44.112998Z"
    }
   }
  },
  {
   "cell_type": "code",
   "execution_count": 31,
   "outputs": [
    {
     "name": "stdout",
     "output_type": "stream",
     "text": [
      "Fitting 5 folds for each of 10 candidates, totalling 50 fits\n",
      "[CV] END bootstrap=False, max_depth=2, max_features=0.2, max_samples=0.5, n_estimators=20; total time=   0.0s\n",
      "[CV] END bootstrap=False, max_depth=2, max_features=0.2, max_samples=0.5, n_estimators=20; total time=   0.0s\n",
      "[CV] END bootstrap=False, max_depth=2, max_features=0.2, max_samples=0.5, n_estimators=20; total time=   0.0s\n",
      "[CV] END bootstrap=False, max_depth=2, max_features=0.2, max_samples=0.5, n_estimators=20; total time=   0.0s\n",
      "[CV] END bootstrap=False, max_depth=2, max_features=0.2, max_samples=0.5, n_estimators=20; total time=   0.0s\n",
      "[CV] END bootstrap=True, max_depth=None, max_features=0.2, max_samples=1.0, n_estimators=20; total time=   0.0s\n",
      "[CV] END bootstrap=True, max_depth=None, max_features=0.2, max_samples=1.0, n_estimators=20; total time=   0.1s\n",
      "[CV] END bootstrap=True, max_depth=None, max_features=0.2, max_samples=1.0, n_estimators=20; total time=   0.0s\n",
      "[CV] END bootstrap=True, max_depth=None, max_features=0.2, max_samples=1.0, n_estimators=20; total time=   0.0s\n",
      "[CV] END bootstrap=True, max_depth=None, max_features=0.2, max_samples=1.0, n_estimators=20; total time=   0.0s\n",
      "[CV] END bootstrap=True, max_depth=2, max_features=1.0, max_samples=1.0, n_estimators=100; total time=   0.2s\n",
      "[CV] END bootstrap=True, max_depth=2, max_features=1.0, max_samples=1.0, n_estimators=100; total time=   0.2s\n",
      "[CV] END bootstrap=True, max_depth=2, max_features=1.0, max_samples=1.0, n_estimators=100; total time=   0.2s\n",
      "[CV] END bootstrap=True, max_depth=2, max_features=1.0, max_samples=1.0, n_estimators=100; total time=   0.2s\n",
      "[CV] END bootstrap=True, max_depth=2, max_features=1.0, max_samples=1.0, n_estimators=100; total time=   0.2s\n",
      "[CV] END bootstrap=True, max_depth=8, max_features=0.2, max_samples=1.0, n_estimators=60; total time=   0.1s\n",
      "[CV] END bootstrap=True, max_depth=8, max_features=0.2, max_samples=1.0, n_estimators=60; total time=   0.1s\n",
      "[CV] END bootstrap=True, max_depth=8, max_features=0.2, max_samples=1.0, n_estimators=60; total time=   0.1s\n",
      "[CV] END bootstrap=True, max_depth=8, max_features=0.2, max_samples=1.0, n_estimators=60; total time=   0.1s\n",
      "[CV] END bootstrap=True, max_depth=8, max_features=0.2, max_samples=1.0, n_estimators=60; total time=   0.1s\n",
      "[CV] END bootstrap=False, max_depth=2, max_features=0.6, max_samples=0.75, n_estimators=20; total time=   0.0s\n",
      "[CV] END bootstrap=False, max_depth=2, max_features=0.6, max_samples=0.75, n_estimators=20; total time=   0.0s\n",
      "[CV] END bootstrap=False, max_depth=2, max_features=0.6, max_samples=0.75, n_estimators=20; total time=   0.0s\n",
      "[CV] END bootstrap=False, max_depth=2, max_features=0.6, max_samples=0.75, n_estimators=20; total time=   0.0s\n",
      "[CV] END bootstrap=False, max_depth=2, max_features=0.6, max_samples=0.75, n_estimators=20; total time=   0.0s\n",
      "[CV] END bootstrap=True, max_depth=None, max_features=0.6, max_samples=0.75, n_estimators=100; total time=   0.2s\n",
      "[CV] END bootstrap=True, max_depth=None, max_features=0.6, max_samples=0.75, n_estimators=100; total time=   0.2s\n",
      "[CV] END bootstrap=True, max_depth=None, max_features=0.6, max_samples=0.75, n_estimators=100; total time=   0.2s\n",
      "[CV] END bootstrap=True, max_depth=None, max_features=0.6, max_samples=0.75, n_estimators=100; total time=   0.1s\n",
      "[CV] END bootstrap=True, max_depth=None, max_features=0.6, max_samples=0.75, n_estimators=100; total time=   0.2s\n",
      "[CV] END bootstrap=False, max_depth=2, max_features=1.0, max_samples=0.5, n_estimators=100; total time=   0.0s\n",
      "[CV] END bootstrap=False, max_depth=2, max_features=1.0, max_samples=0.5, n_estimators=100; total time=   0.0s\n",
      "[CV] END bootstrap=False, max_depth=2, max_features=1.0, max_samples=0.5, n_estimators=100; total time=   0.0s\n",
      "[CV] END bootstrap=False, max_depth=2, max_features=1.0, max_samples=0.5, n_estimators=100; total time=   0.0s\n",
      "[CV] END bootstrap=False, max_depth=2, max_features=1.0, max_samples=0.5, n_estimators=100; total time=   0.0s\n",
      "[CV] END bootstrap=False, max_depth=None, max_features=0.6, max_samples=1.0, n_estimators=120; total time=   0.0s\n",
      "[CV] END bootstrap=False, max_depth=None, max_features=0.6, max_samples=1.0, n_estimators=120; total time=   0.0s\n",
      "[CV] END bootstrap=False, max_depth=None, max_features=0.6, max_samples=1.0, n_estimators=120; total time=   0.0s\n",
      "[CV] END bootstrap=False, max_depth=None, max_features=0.6, max_samples=1.0, n_estimators=120; total time=   0.0s\n",
      "[CV] END bootstrap=False, max_depth=None, max_features=0.6, max_samples=1.0, n_estimators=120; total time=   0.0s\n",
      "[CV] END bootstrap=True, max_depth=None, max_features=0.2, max_samples=1.0, n_estimators=100; total time=   0.1s\n",
      "[CV] END bootstrap=True, max_depth=None, max_features=0.2, max_samples=1.0, n_estimators=100; total time=   0.2s\n",
      "[CV] END bootstrap=True, max_depth=None, max_features=0.2, max_samples=1.0, n_estimators=100; total time=   0.2s\n",
      "[CV] END bootstrap=True, max_depth=None, max_features=0.2, max_samples=1.0, n_estimators=100; total time=   0.2s\n",
      "[CV] END bootstrap=True, max_depth=None, max_features=0.2, max_samples=1.0, n_estimators=100; total time=   0.2s\n",
      "[CV] END bootstrap=False, max_depth=8, max_features=1.0, max_samples=0.5, n_estimators=20; total time=   0.0s\n",
      "[CV] END bootstrap=False, max_depth=8, max_features=1.0, max_samples=0.5, n_estimators=20; total time=   0.0s\n",
      "[CV] END bootstrap=False, max_depth=8, max_features=1.0, max_samples=0.5, n_estimators=20; total time=   0.0s\n",
      "[CV] END bootstrap=False, max_depth=8, max_features=1.0, max_samples=0.5, n_estimators=20; total time=   0.0s\n",
      "[CV] END bootstrap=False, max_depth=8, max_features=1.0, max_samples=0.5, n_estimators=20; total time=   0.0s\n"
     ]
    },
    {
     "name": "stderr",
     "output_type": "stream",
     "text": [
      "/home/zuhaib/anaconda3/lib/python3.10/site-packages/sklearn/model_selection/_validation.py:378: FitFailedWarning: \n",
      "25 fits failed out of a total of 50.\n",
      "The score on these train-test partitions for these parameters will be set to nan.\n",
      "If these failures are not expected, you can try to debug them by setting error_score='raise'.\n",
      "\n",
      "Below are more details about the failures:\n",
      "--------------------------------------------------------------------------------\n",
      "25 fits failed with the following error:\n",
      "Traceback (most recent call last):\n",
      "  File \"/home/zuhaib/anaconda3/lib/python3.10/site-packages/sklearn/model_selection/_validation.py\", line 686, in _fit_and_score\n",
      "    estimator.fit(X_train, y_train, **fit_params)\n",
      "  File \"/home/zuhaib/anaconda3/lib/python3.10/site-packages/sklearn/ensemble/_forest.py\", line 397, in fit\n",
      "    raise ValueError(\n",
      "ValueError: `max_sample` cannot be set if `bootstrap=False`. Either switch to `bootstrap=True` or set `max_sample=None`.\n",
      "\n",
      "  warnings.warn(some_fits_failed_message, FitFailedWarning)\n",
      "/home/zuhaib/anaconda3/lib/python3.10/site-packages/sklearn/model_selection/_search.py:952: UserWarning: One or more of the test scores are non-finite: [       nan 0.81394558 0.78086735 0.81411565        nan 0.78503401\n",
      "        nan        nan 0.82193878        nan]\n",
      "  warnings.warn(\n"
     ]
    },
    {
     "data": {
      "text/plain": "RandomizedSearchCV(cv=5, estimator=RandomForestClassifier(), n_jobs=1,\n                   param_distributions={'bootstrap': [True, False],\n                                        'max_depth': [2, 8, None],\n                                        'max_features': [0.2, 0.6, 1.0],\n                                        'max_samples': [0.5, 0.75, 1.0],\n                                        'n_estimators': [20, 60, 100, 120]},\n                   verbose=2)",
      "text/html": "<style>#sk-container-id-2 {color: black;background-color: white;}#sk-container-id-2 pre{padding: 0;}#sk-container-id-2 div.sk-toggleable {background-color: white;}#sk-container-id-2 label.sk-toggleable__label {cursor: pointer;display: block;width: 100%;margin-bottom: 0;padding: 0.3em;box-sizing: border-box;text-align: center;}#sk-container-id-2 label.sk-toggleable__label-arrow:before {content: \"▸\";float: left;margin-right: 0.25em;color: #696969;}#sk-container-id-2 label.sk-toggleable__label-arrow:hover:before {color: black;}#sk-container-id-2 div.sk-estimator:hover label.sk-toggleable__label-arrow:before {color: black;}#sk-container-id-2 div.sk-toggleable__content {max-height: 0;max-width: 0;overflow: hidden;text-align: left;background-color: #f0f8ff;}#sk-container-id-2 div.sk-toggleable__content pre {margin: 0.2em;color: black;border-radius: 0.25em;background-color: #f0f8ff;}#sk-container-id-2 input.sk-toggleable__control:checked~div.sk-toggleable__content {max-height: 200px;max-width: 100%;overflow: auto;}#sk-container-id-2 input.sk-toggleable__control:checked~label.sk-toggleable__label-arrow:before {content: \"▾\";}#sk-container-id-2 div.sk-estimator input.sk-toggleable__control:checked~label.sk-toggleable__label {background-color: #d4ebff;}#sk-container-id-2 div.sk-label input.sk-toggleable__control:checked~label.sk-toggleable__label {background-color: #d4ebff;}#sk-container-id-2 input.sk-hidden--visually {border: 0;clip: rect(1px 1px 1px 1px);clip: rect(1px, 1px, 1px, 1px);height: 1px;margin: -1px;overflow: hidden;padding: 0;position: absolute;width: 1px;}#sk-container-id-2 div.sk-estimator {font-family: monospace;background-color: #f0f8ff;border: 1px dotted black;border-radius: 0.25em;box-sizing: border-box;margin-bottom: 0.5em;}#sk-container-id-2 div.sk-estimator:hover {background-color: #d4ebff;}#sk-container-id-2 div.sk-parallel-item::after {content: \"\";width: 100%;border-bottom: 1px solid gray;flex-grow: 1;}#sk-container-id-2 div.sk-label:hover label.sk-toggleable__label {background-color: #d4ebff;}#sk-container-id-2 div.sk-serial::before {content: \"\";position: absolute;border-left: 1px solid gray;box-sizing: border-box;top: 0;bottom: 0;left: 50%;z-index: 0;}#sk-container-id-2 div.sk-serial {display: flex;flex-direction: column;align-items: center;background-color: white;padding-right: 0.2em;padding-left: 0.2em;position: relative;}#sk-container-id-2 div.sk-item {position: relative;z-index: 1;}#sk-container-id-2 div.sk-parallel {display: flex;align-items: stretch;justify-content: center;background-color: white;position: relative;}#sk-container-id-2 div.sk-item::before, #sk-container-id-2 div.sk-parallel-item::before {content: \"\";position: absolute;border-left: 1px solid gray;box-sizing: border-box;top: 0;bottom: 0;left: 50%;z-index: -1;}#sk-container-id-2 div.sk-parallel-item {display: flex;flex-direction: column;z-index: 1;position: relative;background-color: white;}#sk-container-id-2 div.sk-parallel-item:first-child::after {align-self: flex-end;width: 50%;}#sk-container-id-2 div.sk-parallel-item:last-child::after {align-self: flex-start;width: 50%;}#sk-container-id-2 div.sk-parallel-item:only-child::after {width: 0;}#sk-container-id-2 div.sk-dashed-wrapped {border: 1px dashed gray;margin: 0 0.4em 0.5em 0.4em;box-sizing: border-box;padding-bottom: 0.4em;background-color: white;}#sk-container-id-2 div.sk-label label {font-family: monospace;font-weight: bold;display: inline-block;line-height: 1.2em;}#sk-container-id-2 div.sk-label-container {text-align: center;}#sk-container-id-2 div.sk-container {/* jupyter's `normalize.less` sets `[hidden] { display: none; }` but bootstrap.min.css set `[hidden] { display: none !important; }` so we also need the `!important` here to be able to override the default hidden behavior on the sphinx rendered scikit-learn.org. See: https://github.com/scikit-learn/scikit-learn/issues/21755 */display: inline-block !important;position: relative;}#sk-container-id-2 div.sk-text-repr-fallback {display: none;}</style><div id=\"sk-container-id-2\" class=\"sk-top-container\"><div class=\"sk-text-repr-fallback\"><pre>RandomizedSearchCV(cv=5, estimator=RandomForestClassifier(), n_jobs=1,\n                   param_distributions={&#x27;bootstrap&#x27;: [True, False],\n                                        &#x27;max_depth&#x27;: [2, 8, None],\n                                        &#x27;max_features&#x27;: [0.2, 0.6, 1.0],\n                                        &#x27;max_samples&#x27;: [0.5, 0.75, 1.0],\n                                        &#x27;n_estimators&#x27;: [20, 60, 100, 120]},\n                   verbose=2)</pre><b>In a Jupyter environment, please rerun this cell to show the HTML representation or trust the notebook. <br />On GitHub, the HTML representation is unable to render, please try loading this page with nbviewer.org.</b></div><div class=\"sk-container\" hidden><div class=\"sk-item sk-dashed-wrapped\"><div class=\"sk-label-container\"><div class=\"sk-label sk-toggleable\"><input class=\"sk-toggleable__control sk-hidden--visually\" id=\"sk-estimator-id-4\" type=\"checkbox\" ><label for=\"sk-estimator-id-4\" class=\"sk-toggleable__label sk-toggleable__label-arrow\">RandomizedSearchCV</label><div class=\"sk-toggleable__content\"><pre>RandomizedSearchCV(cv=5, estimator=RandomForestClassifier(), n_jobs=1,\n                   param_distributions={&#x27;bootstrap&#x27;: [True, False],\n                                        &#x27;max_depth&#x27;: [2, 8, None],\n                                        &#x27;max_features&#x27;: [0.2, 0.6, 1.0],\n                                        &#x27;max_samples&#x27;: [0.5, 0.75, 1.0],\n                                        &#x27;n_estimators&#x27;: [20, 60, 100, 120]},\n                   verbose=2)</pre></div></div></div><div class=\"sk-parallel\"><div class=\"sk-parallel-item\"><div class=\"sk-item\"><div class=\"sk-label-container\"><div class=\"sk-label sk-toggleable\"><input class=\"sk-toggleable__control sk-hidden--visually\" id=\"sk-estimator-id-5\" type=\"checkbox\" ><label for=\"sk-estimator-id-5\" class=\"sk-toggleable__label sk-toggleable__label-arrow\">estimator: RandomForestClassifier</label><div class=\"sk-toggleable__content\"><pre>RandomForestClassifier()</pre></div></div></div><div class=\"sk-serial\"><div class=\"sk-item\"><div class=\"sk-estimator sk-toggleable\"><input class=\"sk-toggleable__control sk-hidden--visually\" id=\"sk-estimator-id-6\" type=\"checkbox\" ><label for=\"sk-estimator-id-6\" class=\"sk-toggleable__label sk-toggleable__label-arrow\">RandomForestClassifier</label><div class=\"sk-toggleable__content\"><pre>RandomForestClassifier()</pre></div></div></div></div></div></div></div></div></div></div>"
     },
     "execution_count": 31,
     "metadata": {},
     "output_type": "execute_result"
    }
   ],
   "source": [
    "rf_grid.fit(X_train,y_train)"
   ],
   "metadata": {
    "collapsed": false,
    "ExecuteTime": {
     "start_time": "2023-05-01T16:53:54.337918Z",
     "end_time": "2023-05-01T16:53:58.129861Z"
    }
   }
  },
  {
   "cell_type": "code",
   "execution_count": 32,
   "outputs": [
    {
     "data": {
      "text/plain": "{'n_estimators': 100,\n 'max_samples': 1.0,\n 'max_features': 0.2,\n 'max_depth': None,\n 'bootstrap': True}"
     },
     "execution_count": 32,
     "metadata": {},
     "output_type": "execute_result"
    }
   ],
   "source": [
    "rf_grid.best_params_"
   ],
   "metadata": {
    "collapsed": false,
    "ExecuteTime": {
     "start_time": "2023-05-01T16:54:11.650273Z",
     "end_time": "2023-05-01T16:54:11.700921Z"
    }
   }
  },
  {
   "cell_type": "code",
   "execution_count": 33,
   "outputs": [
    {
     "data": {
      "text/plain": "0.8219387755102041"
     },
     "execution_count": 33,
     "metadata": {},
     "output_type": "execute_result"
    }
   ],
   "source": [
    "rf_grid.best_score_"
   ],
   "metadata": {
    "collapsed": false,
    "ExecuteTime": {
     "start_time": "2023-05-01T16:54:18.081530Z",
     "end_time": "2023-05-01T16:54:18.115674Z"
    }
   }
  },
  {
   "cell_type": "code",
   "execution_count": null,
   "outputs": [],
   "source": [],
   "metadata": {
    "collapsed": false
   }
  }
 ],
 "metadata": {
  "kernelspec": {
   "display_name": "Python 3",
   "language": "python",
   "name": "python3"
  },
  "language_info": {
   "codemirror_mode": {
    "name": "ipython",
    "version": 2
   },
   "file_extension": ".py",
   "mimetype": "text/x-python",
   "name": "python",
   "nbconvert_exporter": "python",
   "pygments_lexer": "ipython2",
   "version": "2.7.6"
  }
 },
 "nbformat": 4,
 "nbformat_minor": 0
}
